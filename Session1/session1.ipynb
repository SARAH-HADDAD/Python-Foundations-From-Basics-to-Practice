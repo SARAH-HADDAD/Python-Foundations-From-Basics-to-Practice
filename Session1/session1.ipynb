{
  "nbformat": 4,
  "nbformat_minor": 0,
  "metadata": {
    "colab": {
      "provenance": []
    },
    "kernelspec": {
      "name": "python3",
      "display_name": "Python 3"
    },
    "language_info": {
      "name": "python"
    }
  },
  "cells": [
    {
      "cell_type": "markdown",
      "source": [
        "# **Session 1: Getting Started with Python Basics**\n"
      ],
      "metadata": {
        "id": "pgQEJQhKq4Gf"
      }
    },
    {
      "cell_type": "markdown",
      "source": [
        "## HELLO WORLD"
      ],
      "metadata": {
        "id": "1l5D5_-3sBLL"
      }
    },
    {
      "cell_type": "code",
      "source": [
        "print(\"Hello World\")"
      ],
      "metadata": {
        "colab": {
          "base_uri": "https://localhost:8080/"
        },
        "id": "vJ3A2TN-kT4Z",
        "outputId": "23ae76c9-c622-4c4d-ea39-af86b383e8ae"
      },
      "execution_count": 42,
      "outputs": [
        {
          "output_type": "stream",
          "name": "stdout",
          "text": [
            "Hello World\n"
          ]
        }
      ]
    },
    {
      "cell_type": "markdown",
      "source": [
        "## Comments"
      ],
      "metadata": {
        "id": "ZdIEb5c6vSJH"
      }
    },
    {
      "cell_type": "code",
      "source": [
        "# for one line"
      ],
      "metadata": {
        "id": "YHMVf-v5kWVt"
      },
      "execution_count": 43,
      "outputs": []
    },
    {
      "cell_type": "code",
      "source": [
        "\"\"\"\n",
        "this is also a comment but for multi-Line\n",
        "blabla\n",
        "\"\"\""
      ],
      "metadata": {
        "colab": {
          "base_uri": "https://localhost:8080/",
          "height": 35
        },
        "id": "sXnUO1NZkeyB",
        "outputId": "278f396d-e76a-4a98-8e7c-7c902baf3353"
      },
      "execution_count": 44,
      "outputs": [
        {
          "output_type": "execute_result",
          "data": {
            "text/plain": [
              "'\\nthis is also a comment but for multi-Lines\\nblabla\\n'"
            ],
            "application/vnd.google.colaboratory.intrinsic+json": {
              "type": "string"
            }
          },
          "metadata": {},
          "execution_count": 44
        }
      ]
    },
    {
      "cell_type": "code",
      "source": [
        "'''\n",
        "this also a mluti-line comment\n",
        "to rpovide more detailed explanations or notes.\n",
        "'''"
      ],
      "metadata": {
        "colab": {
          "base_uri": "https://localhost:8080/",
          "height": 35
        },
        "id": "RUKF-_5Ukuig",
        "outputId": "0f428023-6691-491a-ab96-ad785f35c20b"
      },
      "execution_count": 45,
      "outputs": [
        {
          "output_type": "execute_result",
          "data": {
            "text/plain": [
              "'\\nthis also a mluti-line comment\\nto rpovide more detailed explanations or notes.\\n'"
            ],
            "application/vnd.google.colaboratory.intrinsic+json": {
              "type": "string"
            }
          },
          "metadata": {},
          "execution_count": 45
        }
      ]
    },
    {
      "cell_type": "markdown",
      "source": [
        "## Variables"
      ],
      "metadata": {
        "id": "iBnZfY4owMiA"
      }
    },
    {
      "cell_type": "code",
      "source": [
        "age = 25\n",
        "print(age)\n",
        "age=4\n",
        "print(age)"
      ],
      "metadata": {
        "colab": {
          "base_uri": "https://localhost:8080/"
        },
        "id": "AuetrjM1myQD",
        "outputId": "5f10421a-ca9b-4439-f618-51c01ef36227"
      },
      "execution_count": 52,
      "outputs": [
        {
          "output_type": "stream",
          "name": "stdout",
          "text": [
            "25\n",
            "4\n"
          ]
        }
      ]
    },
    {
      "cell_type": "code",
      "source": [
        "# the variable y is not recognized\n",
        "# because it hasn't been assigned a value before\n",
        "# so there is not a value to print\n",
        "print(y)"
      ],
      "metadata": {
        "colab": {
          "base_uri": "https://localhost:8080/",
          "height": 179
        },
        "id": "RBwE5ZsXm64Z",
        "outputId": "5ded0485-34e7-4d54-ba28-bd8433511aa4"
      },
      "execution_count": 49,
      "outputs": [
        {
          "output_type": "error",
          "ename": "NameError",
          "evalue": "ignored",
          "traceback": [
            "\u001b[0;31m---------------------------------------------------------------------------\u001b[0m",
            "\u001b[0;31mNameError\u001b[0m                                 Traceback (most recent call last)",
            "\u001b[0;32m<ipython-input-49-d9183e048de3>\u001b[0m in \u001b[0;36m<cell line: 1>\u001b[0;34m()\u001b[0m\n\u001b[0;32m----> 1\u001b[0;31m \u001b[0mprint\u001b[0m\u001b[0;34m(\u001b[0m\u001b[0my\u001b[0m\u001b[0;34m)\u001b[0m\u001b[0;34m\u001b[0m\u001b[0;34m\u001b[0m\u001b[0m\n\u001b[0m",
            "\u001b[0;31mNameError\u001b[0m: name 'y' is not defined"
          ]
        }
      ]
    },
    {
      "cell_type": "markdown",
      "source": [
        "##Naming rules and keywords"
      ],
      "metadata": {
        "id": "ADnXOsm8EjSD"
      }
    },
    {
      "cell_type": "code",
      "source": [
        "\"\"\"\n",
        "vaiable names should have a combination of letters\n",
        "in lower case (a to z)\n",
        "or uppercase (A to Z)\n",
        "or digits (0 to 9)\n",
        "or an underscore (_)\n",
        "\"\"\""
      ],
      "metadata": {
        "id": "M-y1SMhbnlio"
      },
      "execution_count": null,
      "outputs": []
    },
    {
      "cell_type": "code",
      "source": [
        "Age=3\n",
        "age2=4\n",
        "age_of_someone=3"
      ],
      "metadata": {
        "id": "IPGhZL8en5gw"
      },
      "execution_count": 50,
      "outputs": []
    },
    {
      "cell_type": "code",
      "source": [
        "#don't start a variable name with a digit\n",
        "1y=4"
      ],
      "metadata": {
        "colab": {
          "base_uri": "https://localhost:8080/",
          "height": 143
        },
        "id": "ihp2B-9doGFK",
        "outputId": "55eab885-2446-4ff3-d5ed-cf85127e3a38"
      },
      "execution_count": 51,
      "outputs": [
        {
          "output_type": "error",
          "ename": "SyntaxError",
          "evalue": "ignored",
          "traceback": [
            "\u001b[0;36m  File \u001b[0;32m\"<ipython-input-51-526923b7d714>\"\u001b[0;36m, line \u001b[0;32m1\u001b[0m\n\u001b[0;31m    1y=4\u001b[0m\n\u001b[0m    ^\u001b[0m\n\u001b[0;31mSyntaxError\u001b[0m\u001b[0;31m:\u001b[0m invalid decimal literal\n"
          ]
        }
      ]
    },
    {
      "cell_type": "code",
      "source": [
        "# uppercase is for constant in python (les bonnes pratiques)\n",
        "AGE=5"
      ],
      "metadata": {
        "id": "oN_kE7dzoTD2"
      },
      "execution_count": 53,
      "outputs": []
    },
    {
      "cell_type": "code",
      "source": [
        "# create a name that makes snse\n",
        "jsoosj=0\n",
        "game_score=0"
      ],
      "metadata": {
        "id": "p8SWMGkfowGD"
      },
      "execution_count": 54,
      "outputs": []
    },
    {
      "cell_type": "code",
      "source": [
        "# a vaiable name having two words or more\n",
        "number_of_cats=4\n",
        "NumberOfCars=1"
      ],
      "metadata": {
        "id": "ZrPQc6sdo3go"
      },
      "execution_count": 55,
      "outputs": []
    },
    {
      "cell_type": "code",
      "source": [
        "^=4"
      ],
      "metadata": {
        "colab": {
          "base_uri": "https://localhost:8080/",
          "height": 143
        },
        "id": "p5ZjrHmKpLR6",
        "outputId": "319a2687-2bd4-4ab7-c13a-112192a52f6c"
      },
      "execution_count": 56,
      "outputs": [
        {
          "output_type": "error",
          "ename": "SyntaxError",
          "evalue": "ignored",
          "traceback": [
            "\u001b[0;36m  File \u001b[0;32m\"<ipython-input-56-309dad940910>\"\u001b[0;36m, line \u001b[0;32m1\u001b[0m\n\u001b[0;31m    ^ro=4\u001b[0m\n\u001b[0m    ^\u001b[0m\n\u001b[0;31mSyntaxError\u001b[0m\u001b[0;31m:\u001b[0m invalid syntax\n"
          ]
        }
      ]
    },
    {
      "cell_type": "code",
      "source": [
        "# Keywords are the reserves words in Python\n",
        "# they can not be used as oridnary varibales\n",
        "if=3"
      ],
      "metadata": {
        "colab": {
          "base_uri": "https://localhost:8080/",
          "height": 143
        },
        "id": "nRUxX1drpiai",
        "outputId": "53d78660-1681-4055-ac28-e5213adff141"
      },
      "execution_count": 57,
      "outputs": [
        {
          "output_type": "error",
          "ename": "SyntaxError",
          "evalue": "ignored",
          "traceback": [
            "\u001b[0;36m  File \u001b[0;32m\"<ipython-input-57-47915e0681fd>\"\u001b[0;36m, line \u001b[0;32m3\u001b[0m\n\u001b[0;31m    if=3\u001b[0m\n\u001b[0m      ^\u001b[0m\n\u001b[0;31mSyntaxError\u001b[0m\u001b[0;31m:\u001b[0m invalid syntax\n"
          ]
        }
      ]
    },
    {
      "cell_type": "code",
      "source": [
        "#here is the list of the keywords in Python\n",
        "import keyword\n",
        "print(keyword.kwlist)"
      ],
      "metadata": {
        "colab": {
          "base_uri": "https://localhost:8080/"
        },
        "id": "UHipInXDp0fI",
        "outputId": "c21a72dc-8bdf-4bf0-f2b7-8b5794aace61"
      },
      "execution_count": 58,
      "outputs": [
        {
          "output_type": "stream",
          "name": "stdout",
          "text": [
            "['False', 'None', 'True', 'and', 'as', 'assert', 'async', 'await', 'break', 'class', 'continue', 'def', 'del', 'elif', 'else', 'except', 'finally', 'for', 'from', 'global', 'if', 'import', 'in', 'is', 'lambda', 'nonlocal', 'not', 'or', 'pass', 'raise', 'return', 'try', 'while', 'with', 'yield']\n"
          ]
        }
      ]
    },
    {
      "cell_type": "markdown",
      "source": [
        "## Data types"
      ],
      "metadata": {
        "id": "ArKYY78-w3c-"
      }
    },
    {
      "cell_type": "code",
      "source": [
        "# Integers\n",
        "b=4\n",
        "print(type(b))"
      ],
      "metadata": {
        "colab": {
          "base_uri": "https://localhost:8080/"
        },
        "id": "7SHbpQikOE8-",
        "outputId": "2427656f-8d14-407d-e1c6-48aaffe62d00"
      },
      "execution_count": 59,
      "outputs": [
        {
          "output_type": "stream",
          "name": "stdout",
          "text": [
            "<class 'int'>\n"
          ]
        }
      ]
    },
    {
      "cell_type": "code",
      "source": [
        "# floats\n",
        "poids=55.55\n",
        "print(poids)\n",
        "print(type(poids))"
      ],
      "metadata": {
        "colab": {
          "base_uri": "https://localhost:8080/"
        },
        "id": "c50LtoWPOw4H",
        "outputId": "c75c2b84-7bb2-45c3-921c-d5b85b76293f"
      },
      "execution_count": 60,
      "outputs": [
        {
          "output_type": "stream",
          "name": "stdout",
          "text": [
            "55.55\n",
            "<class 'float'>\n"
          ]
        }
      ]
    },
    {
      "cell_type": "code",
      "source": [
        "# String\n",
        "text=\"bla bla\"\n",
        "print(text)\n",
        "print(type(text))\n",
        "longtext=\"\"\"\n",
        "bla bla\n",
        "test test\n",
        "\"\"\"\n",
        "print(longtext)"
      ],
      "metadata": {
        "colab": {
          "base_uri": "https://localhost:8080/"
        },
        "id": "T5ujRgTOPPJ3",
        "outputId": "70822757-3f6d-4597-b70c-5ad688d1d816"
      },
      "execution_count": 65,
      "outputs": [
        {
          "output_type": "stream",
          "name": "stdout",
          "text": [
            "bla bla\n",
            "<class 'str'>\n",
            "\n",
            "bla bla \n",
            "test test\n",
            "\n"
          ]
        }
      ]
    },
    {
      "cell_type": "code",
      "source": [
        "# Booleans\n",
        "is_studnet=True\n",
        "print(is_studnet)\n",
        "print(type(is_studnet))"
      ],
      "metadata": {
        "colab": {
          "base_uri": "https://localhost:8080/"
        },
        "id": "HUcu8t0yPu-i",
        "outputId": "90d08adf-36d9-4ed8-e07a-03faff00d1b5"
      },
      "execution_count": 63,
      "outputs": [
        {
          "output_type": "stream",
          "name": "stdout",
          "text": [
            "True\n",
            "<class 'bool'>\n"
          ]
        }
      ]
    },
    {
      "cell_type": "code",
      "source": [
        "is_teacher=False\n",
        "print(is_teacher)\n",
        "print(type(is_teacher))"
      ],
      "metadata": {
        "colab": {
          "base_uri": "https://localhost:8080/"
        },
        "id": "VCkvDXpQsY_T",
        "outputId": "82f68ffa-ae55-4682-946a-a6ea88aaa55d"
      },
      "execution_count": 64,
      "outputs": [
        {
          "output_type": "stream",
          "name": "stdout",
          "text": [
            "False\n",
            "<class 'bool'>\n"
          ]
        }
      ]
    },
    {
      "cell_type": "markdown",
      "source": [
        "##Basic operators"
      ],
      "metadata": {
        "id": "ds7n-oWIxLag"
      }
    },
    {
      "cell_type": "code",
      "source": [
        "# Addition\n",
        "result=4+5.7\n",
        "result"
      ],
      "metadata": {
        "colab": {
          "base_uri": "https://localhost:8080/"
        },
        "id": "y5sHzwuZxQ3B",
        "outputId": "bda7bc22-8d54-4dbd-9142-1ce2665765ed"
      },
      "execution_count": 71,
      "outputs": [
        {
          "output_type": "execute_result",
          "data": {
            "text/plain": [
              "9.7"
            ]
          },
          "metadata": {},
          "execution_count": 71
        }
      ]
    },
    {
      "cell_type": "code",
      "source": [
        "# Subtraction\n",
        "difference=5-7.5\n",
        "difference"
      ],
      "metadata": {
        "colab": {
          "base_uri": "https://localhost:8080/"
        },
        "id": "cu_W8cEwxWHi",
        "outputId": "5c16fc98-4c45-47f8-c09d-ed34458fa7a5"
      },
      "execution_count": 72,
      "outputs": [
        {
          "output_type": "execute_result",
          "data": {
            "text/plain": [
              "-2.5"
            ]
          },
          "metadata": {},
          "execution_count": 72
        }
      ]
    },
    {
      "cell_type": "code",
      "source": [
        "# Multiplication\n",
        "product=5*4998.5\n",
        "product"
      ],
      "metadata": {
        "colab": {
          "base_uri": "https://localhost:8080/"
        },
        "id": "pUlZKCy9xYs7",
        "outputId": "cf210e8d-a3ec-45cc-a35e-c5df1946f182"
      },
      "execution_count": 73,
      "outputs": [
        {
          "output_type": "execute_result",
          "data": {
            "text/plain": [
              "24992.5"
            ]
          },
          "metadata": {},
          "execution_count": 73
        }
      ]
    },
    {
      "cell_type": "code",
      "source": [
        "# Division\n",
        "quotient=70/7\n",
        "quotient"
      ],
      "metadata": {
        "colab": {
          "base_uri": "https://localhost:8080/"
        },
        "id": "0k0LLfKFxbds",
        "outputId": "17609984-ed27-4268-c7aa-d46bc3f2d05f"
      },
      "execution_count": 70,
      "outputs": [
        {
          "output_type": "execute_result",
          "data": {
            "text/plain": [
              "10.0"
            ]
          },
          "metadata": {},
          "execution_count": 70
        }
      ]
    },
    {
      "cell_type": "code",
      "source": [
        "# Modulo %\n",
        "remainder=3%2\n",
        "remainder"
      ],
      "metadata": {
        "colab": {
          "base_uri": "https://localhost:8080/"
        },
        "id": "L9cvuTVyxf7a",
        "outputId": "65897236-6c34-40e4-8799-10e895e22723"
      },
      "execution_count": 77,
      "outputs": [
        {
          "output_type": "execute_result",
          "data": {
            "text/plain": [
              "1"
            ]
          },
          "metadata": {},
          "execution_count": 77
        }
      ]
    },
    {
      "cell_type": "code",
      "source": [
        "# Exponent\n",
        "power=2.3**3\n",
        "power"
      ],
      "metadata": {
        "colab": {
          "base_uri": "https://localhost:8080/"
        },
        "id": "ZSdDohNVxgzU",
        "outputId": "7001f0f1-6f40-4998-b565-0fb128b4c96c"
      },
      "execution_count": 78,
      "outputs": [
        {
          "output_type": "execute_result",
          "data": {
            "text/plain": [
              "12.166999999999998"
            ]
          },
          "metadata": {},
          "execution_count": 78
        }
      ]
    },
    {
      "cell_type": "markdown",
      "source": [
        "##Working with Data Types"
      ],
      "metadata": {
        "id": "QOFIIHHixkbU"
      }
    },
    {
      "cell_type": "markdown",
      "source": [
        "## Input and Output"
      ],
      "metadata": {
        "id": "j8tz-2dsygKB"
      }
    },
    {
      "cell_type": "markdown",
      "source": [
        "**Input (Getting Information):**\n",
        "\n"
      ],
      "metadata": {
        "id": "TkaWw6Qoyjss"
      }
    },
    {
      "cell_type": "code",
      "source": [],
      "metadata": {
        "id": "yLLXtqmbyhSJ"
      },
      "execution_count": 41,
      "outputs": []
    },
    {
      "cell_type": "markdown",
      "source": [
        "**Output (Showing Information):**"
      ],
      "metadata": {
        "id": "q3c1p1aSyn4Z"
      }
    },
    {
      "cell_type": "code",
      "source": [],
      "metadata": {
        "id": "SmI1SBcYytwB"
      },
      "execution_count": 41,
      "outputs": []
    }
  ]
}