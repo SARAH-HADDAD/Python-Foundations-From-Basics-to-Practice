{
  "cells": [
    {
      "cell_type": "markdown",
      "metadata": {
        "id": "o4zPUK8KwDfd"
      },
      "source": [
        "# Session 3:Looping Around: Let's Repeat!**"
      ]
    },
    {
      "cell_type": "markdown",
      "metadata": {
        "id": "iDn3WtpTwM9r"
      },
      "source": [
        "## While Loops"
      ]
    },
    {
      "cell_type": "code",
      "execution_count": null,
      "metadata": {},
      "outputs": [],
      "source": [
        "# The loop executes only if cat_is_happy is initially True.\n",
        "cat_is_happy=True\n",
        "# while cat_is_happy:\n",
        "#  print(\"meow\")"
      ]
    },
    {
      "cell_type": "code",
      "execution_count": 2,
      "metadata": {
        "colab": {
          "base_uri": "https://localhost:8080/"
        },
        "id": "6Ka8yUsECNGY",
        "outputId": "0d27f406-7ae6-4c4c-b067-6befd9210e75"
      },
      "outputs": [
        {
          "name": "stdout",
          "output_type": "stream",
          "text": [
            "meow\n",
            "meow\n",
            "meow\n"
          ]
        }
      ],
      "source": [
        "# To fix this loop that lasts forever, we can edit our code as follows\n",
        "i=3\n",
        "while i!=0:\n",
        "  print(\"meow\")\n",
        "  i=i-1 # i=0"
      ]
    },
    {
      "cell_type": "code",
      "execution_count": 3,
      "metadata": {
        "colab": {
          "base_uri": "https://localhost:8080/"
        },
        "id": "B5Yqi0Q-DKW2",
        "outputId": "aaf2816a-8804-4639-b183-e4a17823ed67"
      },
      "outputs": [
        {
          "name": "stdout",
          "output_type": "stream",
          "text": [
            "meow\n",
            "meow\n",
            "meow\n"
          ]
        }
      ],
      "source": [
        "#It’s best practice in programming to begin counting with zero.\n",
        "\n",
        "i=0\n",
        "while i<3:\n",
        "  print(\"meow\")\n",
        "  i+=1 # i += 1 is the same as saying i = i + 1."
      ]
    },
    {
      "cell_type": "code",
      "execution_count": 4,
      "metadata": {
        "colab": {
          "base_uri": "https://localhost:8080/"
        },
        "id": "EkMP2S1pD1Qc",
        "outputId": "2696b085-c91d-410b-f0e6-b530003915f8"
      },
      "outputs": [
        {
          "data": {
            "text/plain": [
              "98"
            ]
          },
          "execution_count": 4,
          "metadata": {},
          "output_type": "execute_result"
        }
      ],
      "source": [
        "a=100\n",
        "a-=2#a=a-2\n",
        "a"
      ]
    },
    {
      "cell_type": "code",
      "execution_count": 5,
      "metadata": {
        "colab": {
          "base_uri": "https://localhost:8080/"
        },
        "id": "IUCxyGEbD-fl",
        "outputId": "d7f048e0-a540-4947-d4b5-fc5fdf75042a"
      },
      "outputs": [
        {
          "data": {
            "text/plain": [
              "196"
            ]
          },
          "execution_count": 5,
          "metadata": {},
          "output_type": "execute_result"
        }
      ],
      "source": [
        "a*=2\n",
        "a"
      ]
    },
    {
      "cell_type": "code",
      "execution_count": 6,
      "metadata": {
        "colab": {
          "base_uri": "https://localhost:8080/"
        },
        "id": "QuVrcuhUEE7l",
        "outputId": "390d4e79-da87-4c9b-b338-a28bb1672377"
      },
      "outputs": [
        {
          "data": {
            "text/plain": [
              "98.0"
            ]
          },
          "execution_count": 6,
          "metadata": {},
          "output_type": "execute_result"
        }
      ],
      "source": [
        "a/=2\n",
        "a"
      ]
    },
    {
      "cell_type": "code",
      "execution_count": 8,
      "metadata": {
        "colab": {
          "base_uri": "https://localhost:8080/"
        },
        "id": "g4pbyIZ3FLo1",
        "outputId": "4c882173-3cb5-4615-e3c3-3c156d3d4a90"
      },
      "outputs": [
        {
          "name": "stdout",
          "output_type": "stream",
          "text": [
            "Eat another cookie\n",
            "Eat another cookie\n",
            "Eat another cookie\n",
            "Eat another cookie\n",
            "Eat another cookie\n"
          ]
        }
      ],
      "source": [
        "# Initialize the number of cookies to 5\n",
        "number_of_cookies = 5\n",
        "\n",
        "# Continue the loop as long as there are cookies left\n",
        "while number_of_cookies != 0:\n",
        "    # Print a message indicating eating another cookie\n",
        "    print(\"Eat another cookie\")\n",
        "\n",
        "    # Decrement the number of cookies by 1 in each iteration\n",
        "    number_of_cookies -= 1  # This is equivalent to number_of_cookies = number_of_cookies - 1"
      ]
    },
    {
      "cell_type": "markdown",
      "metadata": {
        "id": "sfdG5PjewZJ3"
      },
      "source": [
        "## For Loops"
      ]
    },
    {
      "cell_type": "code",
      "execution_count": 10,
      "metadata": {
        "colab": {
          "base_uri": "https://localhost:8080/"
        },
        "id": "1ny7NiQ2Fw4e",
        "outputId": "afa40620-8fc4-4944-e49d-643904070761"
      },
      "outputs": [
        {
          "name": "stdout",
          "output_type": "stream",
          "text": [
            "in the current iteration, i =  1\n",
            "meow\n",
            "in the current iteration, i =  2\n",
            "meow\n",
            "in the current iteration, i =  3\n",
            "meow\n"
          ]
        }
      ],
      "source": [
        "for i in [1, 2, 3]:\n",
        "    # Print the current value of i in this iteration\n",
        "    print(\"in the current iteration, i = \",i)\n",
        "\n",
        "    # Print \"meow\" in each iteration\n",
        "    print(\"meow\")\n",
        "# Notice how clean this code is compared to your previous while loop code"
      ]
    },
    {
      "cell_type": "code",
      "execution_count": 16,
      "metadata": {
        "colab": {
          "base_uri": "https://localhost:8080/"
        },
        "id": "YfQw5nzIGbTc",
        "outputId": "f13da136-297d-4755-9cd7-00e92a4e8b0e"
      },
      "outputs": [
        {
          "name": "stdout",
          "output_type": "stream",
          "text": [
            "0\n",
            "meow\n",
            "1\n",
            "meow\n",
            "2\n",
            "meow\n",
            "\n",
            "\n",
            "\n",
            "1\n",
            "meow\n",
            "2\n",
            "meow\n",
            "3\n",
            "meow\n",
            "\n",
            "\n",
            "\n",
            "1\n",
            "meow\n",
            "4\n",
            "meow\n",
            "7\n",
            "meow\n"
          ]
        }
      ],
      "source": [
        "\"\"\"\n",
        "Basic Syntax:\n",
        "range(stop): Generates a sequence from 0 up to (but not including) the stop value.\n",
        "range(start, stop): Generates a sequence from start up to (but not including) the stop value.\n",
        "range(start, stop, step): Generates a sequence from start to stop, with increments of step between each number.\n",
        "\"\"\"\n",
        "\n",
        "for i in range(3):\n",
        "  print(i)\n",
        "  print(\"meow\")\n",
        "\n",
        "print(\"\\n\\n\") # Print two blank lines\n",
        "for i in range(1,4):\n",
        "  print(i)\n",
        "  print(\"meow\")\n",
        "\n",
        "print(\"\\n\\n\") # Print two blank lines\n",
        "for i in range(1,10,3):\n",
        "  print(i)\n",
        "  print(\"meow\")"
      ]
    },
    {
      "cell_type": "markdown",
      "metadata": {
        "id": "bQSzafmMOd9V"
      },
      "source": [
        "## Lists"
      ]
    },
    {
      "cell_type": "code",
      "execution_count": 19,
      "metadata": {
        "colab": {
          "base_uri": "https://localhost:8080/"
        },
        "id": "JzoxWY1KH3VF",
        "outputId": "13f8e9d3-ee8f-493a-9474-2f95d753b5a6"
      },
      "outputs": [
        {
          "name": "stdout",
          "output_type": "stream",
          "text": [
            "fruits: ['apple', 'banana', 'orange', 'kiwi']\n",
            "First element: apple\n",
            "Last element: kiwi\n"
          ]
        }
      ],
      "source": [
        "# Each item in the list has a unique index based on its position\n",
        "# indexing starts at 0, not 1\n",
        "#index:     0          1         2        3\n",
        "fruits = [\"apple\", \"banana\", \"orange\", \"kiwi\"] # Creating a List\n",
        "#         -4        -3         -2         -1\n",
        "# reverse indexing : Python also allows you to access items in reverse order using negative numbers.\n",
        "# To obtain the last item in the list, you can use the index -1:\n",
        "print(\"fruits:\",fruits)\n",
        "# Printing the first element (index 0)\n",
        "print(\"First element:\", fruits[0])\n",
        "\n",
        "# Printing the last element (index -1 using reverse indexing)\n",
        "print(\"Last element:\", fruits[-1])"
      ]
    },
    {
      "cell_type": "code",
      "execution_count": 20,
      "metadata": {
        "colab": {
          "base_uri": "https://localhost:8080/"
        },
        "id": "SpNKXQsTIFE8",
        "outputId": "0c669e6c-368e-40d6-d7fc-fb07731c6616"
      },
      "outputs": [
        {
          "name": "stdout",
          "output_type": "stream",
          "text": [
            "['apple', 'banana', 'orange', 'cherry']\n"
          ]
        }
      ],
      "source": [
        "# Modifying Lists:\n",
        "# Modifying a list is straightforward. To change an item, use its index and assign a new value using the `=` operator:\n",
        "fruits[-1]=\"cherry\"\n",
        "print(fruits)"
      ]
    },
    {
      "cell_type": "code",
      "execution_count": 21,
      "metadata": {
        "colab": {
          "base_uri": "https://localhost:8080/"
        },
        "id": "D141wymAJRAe",
        "outputId": "565fdbcc-d577-4b60-a017-6d4f3d6d7a79"
      },
      "outputs": [
        {
          "name": "stdout",
          "output_type": "stream",
          "text": [
            "['apple', 'banana', 'orange', 'cherry', 'strawberry']\n"
          ]
        }
      ],
      "source": [
        "# To add an item to the end of the list, use `append()`:\n",
        "fruits.append(\"strawberry\")\n",
        "print(fruits)"
      ]
    },
    {
      "cell_type": "code",
      "execution_count": 22,
      "metadata": {
        "colab": {
          "base_uri": "https://localhost:8080/"
        },
        "id": "MKsLyA3RJv5S",
        "outputId": "094e8137-7660-4e8d-ca2f-72128cb372d8"
      },
      "outputs": [
        {
          "name": "stdout",
          "output_type": "stream",
          "text": [
            "['apple', 'orange', 'cherry', 'strawberry']\n"
          ]
        }
      ],
      "source": [
        "# To remove a specific item, use `remove()`:\n",
        "fruits.remove(\"banana\")\n",
        "print(fruits)"
      ]
    },
    {
      "cell_type": "code",
      "execution_count": 23,
      "metadata": {
        "colab": {
          "base_uri": "https://localhost:8080/"
        },
        "id": "UKq8oMCHJ_uh",
        "outputId": "1eac710d-9e11-4604-e036-13eba7a7ca8f"
      },
      "outputs": [
        {
          "data": {
            "text/plain": [
              "[-3, 0, 1, 3, 3, 6, 8, 9, 44, 6674]"
            ]
          },
          "execution_count": 23,
          "metadata": {},
          "output_type": "execute_result"
        }
      ],
      "source": [
        "# Sorting Lists:\n",
        "# You can sort lists efficiently in Python using the `sort()` method:\n",
        "\n",
        "numbers=[1,3,9,0,6,-3,8,44,6674,3]\n",
        "numbers.sort()\n",
        "numbers"
      ]
    },
    {
      "cell_type": "code",
      "execution_count": 25,
      "metadata": {
        "colab": {
          "base_uri": "https://localhost:8080/"
        },
        "id": "M2Vmzf1EKSNk",
        "outputId": "534875b9-f498-4869-c6ed-8144f3a95a25"
      },
      "outputs": [
        {
          "data": {
            "text/plain": [
              "[6674, 44, 9, 8, 6, 3, 3, 1, 0, -3]"
            ]
          },
          "execution_count": 25,
          "metadata": {},
          "output_type": "execute_result"
        }
      ],
      "source": [
        "# `reverse()`: This method reverses the order of elements in a list, effectively flipping it.\n",
        "numbers.reverse()\n",
        "numbers"
      ]
    },
    {
      "cell_type": "code",
      "execution_count": 24,
      "metadata": {
        "colab": {
          "base_uri": "https://localhost:8080/"
        },
        "id": "d2BMpMUAKZ39",
        "outputId": "89bf2388-dfe3-417a-ac54-3e0cf5dd6de6"
      },
      "outputs": [
        {
          "data": {
            "text/plain": [
              "10"
            ]
          },
          "execution_count": 24,
          "metadata": {},
          "output_type": "execute_result"
        }
      ],
      "source": [
        "#List Length:\n",
        "#The `len()` method tells you the length of the list, which is the number of items it contains:\n",
        "len(numbers)"
      ]
    },
    {
      "cell_type": "code",
      "execution_count": 26,
      "metadata": {
        "colab": {
          "base_uri": "https://localhost:8080/"
        },
        "id": "gKc5utr9Kdwm",
        "outputId": "03f3916a-55cf-4a8d-be62-65d46d92617a"
      },
      "outputs": [
        {
          "name": "stdout",
          "output_type": "stream",
          "text": [
            "4\n",
            "['apple', 'orange', 'cherry', 'strawberry']\n"
          ]
        }
      ],
      "source": [
        "print(len(fruits))# len(): count how many items in the list\n",
        "print(fruits)"
      ]
    },
    {
      "cell_type": "code",
      "execution_count": 27,
      "metadata": {
        "colab": {
          "base_uri": "https://localhost:8080/"
        },
        "id": "Ida1EU7fKrOW",
        "outputId": "394d2e3a-d585-4a39-ed33-a1c37915b330"
      },
      "outputs": [
        {
          "name": "stdout",
          "output_type": "stream",
          "text": [
            "1\n",
            "2\n",
            "3\n",
            "4\n",
            "5\n",
            "total: 15\n"
          ]
        }
      ],
      "source": [
        "my_list = [1, 2, 3, 4, 5]\n",
        "total = 0\n",
        "\n",
        "# Using a for loop to calculate the sum of the elements in the list\n",
        "for i in my_list:\n",
        "    print(i)\n",
        "    total += i  # Accumulate the sum of the elements\n",
        "\n",
        "print(\"total:\", total)"
      ]
    },
    {
      "cell_type": "code",
      "execution_count": 29,
      "metadata": {
        "colab": {
          "base_uri": "https://localhost:8080/",
          "height": 35
        },
        "id": "-0tfx2AqLtDn",
        "outputId": "0bb179a3-ad30-4cbf-ca60-6bc958465eca"
      },
      "outputs": [
        {
          "data": {
            "application/vnd.google.colaboratory.intrinsic+json": {
              "type": "string"
            },
            "text/plain": [
              "'t'"
            ]
          },
          "execution_count": 29,
          "metadata": {},
          "output_type": "execute_result"
        }
      ],
      "source": [
        "word=\"Test\"\n",
        "word[-1] # it will access the last character in the string"
      ]
    },
    {
      "cell_type": "code",
      "execution_count": 30,
      "metadata": {
        "colab": {
          "base_uri": "https://localhost:8080/"
        },
        "id": "OyzS31OVL4hq",
        "outputId": "cccbc780-1caa-46b6-8b05-be0d0911b36d"
      },
      "outputs": [
        {
          "name": "stdout",
          "output_type": "stream",
          "text": [
            "There is the letter 's' in the word\n"
          ]
        }
      ],
      "source": [
        "for letter in word:#[\"T\", \"e\", \"s\", \"t\"]\n",
        "  if(letter==\"s\"):\n",
        "    print(\"There is the letter 's' in the word\")"
      ]
    },
    {
      "cell_type": "code",
      "execution_count": 31,
      "metadata": {
        "colab": {
          "base_uri": "https://localhost:8080/"
        },
        "id": "o9YWx4SSMbnp",
        "outputId": "65069610-1992-4d26-e88f-641b1f5dca35"
      },
      "outputs": [
        {
          "name": "stdout",
          "output_type": "stream",
          "text": [
            "['apple', 'banana', 'orange', 'date', 'cherry', 'pear']\n"
          ]
        }
      ],
      "source": [
        "fruits = [\"apple\", \"banana\", \"orange\"]\n",
        "fruits.append(\"date\")\n",
        "fruits.append(\"cherry\")\n",
        "fruits.append(\"pear\")\n",
        "print(fruits)"
      ]
    },
    {
      "cell_type": "code",
      "execution_count": 33,
      "metadata": {
        "colab": {
          "base_uri": "https://localhost:8080/"
        },
        "id": "k5q4Sno4M86k",
        "outputId": "e5215678-2607-4a21-86f4-a1d5481a3622"
      },
      "outputs": [
        {
          "name": "stdout",
          "output_type": "stream",
          "text": [
            "I like apple\n",
            "I like banana\n",
            "I don't like orange\n",
            "I don't like date\n",
            "I like cherry\n",
            "I like pear\n"
          ]
        }
      ],
      "source": [
        "# Loop through each fruit in the list 'fruits'\n",
        "for fruit in fruits:\n",
        "    # Check if the current fruit is either \"orange\" or \"date\"\n",
        "    if fruit == \"orange\" or fruit == \"date\":\n",
        "        print(\"I don't like\", fruit)\n",
        "    else:\n",
        "        # If it's not \"orange\" or \"date\", print \"I like\" followed by the fruit\n",
        "        print(\"I like\", fruit)"
      ]
    },
    {
      "cell_type": "code",
      "execution_count": 34,
      "metadata": {
        "colab": {
          "base_uri": "https://localhost:8080/"
        },
        "id": "gPDBqsECNir_",
        "outputId": "1a1e6a23-c9e3-4b8a-d26f-96d1f0b6e7b6"
      },
      "outputs": [
        {
          "name": "stdout",
          "output_type": "stream",
          "text": [
            "fruits: ['apple', 'banana', 'orange', 'date', 'cherry', 'pear']\n",
            "item apple\n",
            "item banana\n",
            "Banana is found in the list.\n"
          ]
        }
      ],
      "source": [
        "# searching for an elemnt in the fruits list\n",
        "# Define the target element to search for\n",
        "target = \"banana\"\n",
        "\n",
        "# Initialize a variable 'found' to False\n",
        "found = False\n",
        "\n",
        "# Print the list of fruits\n",
        "print(\"fruits:\", fruits)\n",
        "\n",
        "# Loop through each item in the 'fruits' list\n",
        "for item in fruits:\n",
        "    print(\"item\", item)\n",
        "\n",
        "    # Check if the current item is equal to the target\n",
        "    if item == target:\n",
        "        # If found, set 'found' to True and exit the loop using 'break'\n",
        "        found = True\n",
        "        break  # Exit the loop\n",
        "\n",
        "# Check if 'found' is True\n",
        "if found:\n",
        "    print(\"Banana is found in the list.\")\n",
        "    # Remove the 'banana' from the list\n",
        "    fruits.remove(target)\n",
        "else:\n",
        "    print(\"Banana is not found in the list.\")\n"
      ]
    },
    {
      "cell_type": "markdown",
      "metadata": {
        "id": "x5x-yIHMOh33"
      },
      "source": [
        "## Coke Machine"
      ]
    },
    {
      "cell_type": "code",
      "execution_count": 35,
      "metadata": {
        "colab": {
          "base_uri": "https://localhost:8080/"
        },
        "id": "O3dxbksTQ7Ai",
        "outputId": "fdea176c-eb73-4e4f-9218-d52c5f6fad99"
      },
      "outputs": [
        {
          "name": "stdout",
          "output_type": "stream",
          "text": [
            "Insert a coin (20, 10, or 5 dinars): 20\n",
            "Amount to be paid: 30 da\n",
            "Insert a coin (20, 10, or 5 dinars): 20\n",
            "Amount to be paid: 10 da\n",
            "Insert a coin (20, 10, or 5 dinars): 20\n",
            "Change owed: 10\n"
          ]
        }
      ],
      "source": [
        "# Initialize variables\n",
        "total_inserted = 0\n",
        "\n",
        "# Define accepted coin denominations\n",
        "accepted_coins = [20, 10, 5]\n",
        "\n",
        "# Keep prompting the user for coins until they've paid at least 50 cents\n",
        "while total_inserted < 50:\n",
        "    # Prompt the user to insert a coin\n",
        "    coin = int(input(\"Insert a coin (20, 10, or 5 dinars): \"))\n",
        "\n",
        "    # Check if the inserted coin is valid\n",
        "    if coin in accepted_coins:\n",
        "        total_inserted += coin\n",
        "        remaining = 50 - total_inserted\n",
        "\n",
        "        # Check if there's still an amount to be paid\n",
        "        if remaining > 0:\n",
        "            print(\"Amount to be paid: \" + str(remaining) + \" da\")\n",
        "    else:\n",
        "        print(\"Invalid coin. Please insert a 20, 10, or 5 dinars coin.\")\n",
        "\n",
        "# Calculate and display the change owed to the user\n",
        "change = total_inserted - 50\n",
        "\n",
        "# Check if change is owed\n",
        "if change != 0:\n",
        "    print(\"Change owed:\", change)"
      ]
    }
  ],
  "metadata": {
    "colab": {
      "provenance": []
    },
    "kernelspec": {
      "display_name": "Python 3",
      "name": "python3"
    },
    "language_info": {
      "name": "python"
    }
  },
  "nbformat": 4,
  "nbformat_minor": 0
}
