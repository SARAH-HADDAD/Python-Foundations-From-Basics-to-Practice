{
  "nbformat": 4,
  "nbformat_minor": 0,
  "metadata": {
    "colab": {
      "provenance": []
    },
    "kernelspec": {
      "name": "python3",
      "display_name": "Python 3"
    },
    "language_info": {
      "name": "python"
    }
  },
  "cells": [
    {
      "cell_type": "markdown",
      "source": [
        "# **Session 1: Getting Started with Python Basics**\n"
      ],
      "metadata": {
        "id": "pgQEJQhKq4Gf"
      }
    },
    {
      "cell_type": "markdown",
      "source": [
        "Original file is located at\n",
        "    https://colab.research.google.com/drive/1BGauZj_OvDlNK6xcxoF13ne48lEE1D5I"
      ],
      "metadata": {
        "id": "h46vT_DoWoOA"
      }
    },
    {
      "cell_type": "markdown",
      "source": [
        "## HELLO WORLD"
      ],
      "metadata": {
        "id": "1l5D5_-3sBLL"
      }
    },
    {
      "cell_type": "code",
      "source": [
        "print(\"Hello World\")"
      ],
      "metadata": {
        "colab": {
          "base_uri": "https://localhost:8080/"
        },
        "id": "vJ3A2TN-kT4Z",
        "outputId": "23684027-280c-48e2-a406-6b073962c0f9"
      },
      "execution_count": 1,
      "outputs": [
        {
          "output_type": "stream",
          "name": "stdout",
          "text": [
            "Hello World\n"
          ]
        }
      ]
    },
    {
      "cell_type": "markdown",
      "source": [
        "## Comments"
      ],
      "metadata": {
        "id": "ZdIEb5c6vSJH"
      }
    },
    {
      "cell_type": "code",
      "source": [
        "# for one line"
      ],
      "metadata": {
        "id": "YHMVf-v5kWVt"
      },
      "execution_count": 2,
      "outputs": []
    },
    {
      "cell_type": "code",
      "source": [
        "\"\"\"\n",
        "this is also a comment but for multi-Line\n",
        "blabla\n",
        "\"\"\""
      ],
      "metadata": {
        "colab": {
          "base_uri": "https://localhost:8080/",
          "height": 35
        },
        "id": "sXnUO1NZkeyB",
        "outputId": "ef12b912-98aa-4142-cf02-e9a3fbf01011"
      },
      "execution_count": 3,
      "outputs": [
        {
          "output_type": "execute_result",
          "data": {
            "text/plain": [
              "'\\nthis is also a comment but for multi-Line\\nblabla\\n'"
            ],
            "application/vnd.google.colaboratory.intrinsic+json": {
              "type": "string"
            }
          },
          "metadata": {},
          "execution_count": 3
        }
      ]
    },
    {
      "cell_type": "code",
      "source": [
        "'''\n",
        "this also a mluti-line comment\n",
        "to rpovide more detailed explanations or notes.\n",
        "'''"
      ],
      "metadata": {
        "colab": {
          "base_uri": "https://localhost:8080/",
          "height": 35
        },
        "id": "RUKF-_5Ukuig",
        "outputId": "3d12f965-ee2f-414b-c439-aee84195be7c"
      },
      "execution_count": 4,
      "outputs": [
        {
          "output_type": "execute_result",
          "data": {
            "text/plain": [
              "'\\nthis also a mluti-line comment\\nto rpovide more detailed explanations or notes.\\n'"
            ],
            "application/vnd.google.colaboratory.intrinsic+json": {
              "type": "string"
            }
          },
          "metadata": {},
          "execution_count": 4
        }
      ]
    },
    {
      "cell_type": "markdown",
      "source": [
        "## Variables"
      ],
      "metadata": {
        "id": "iBnZfY4owMiA"
      }
    },
    {
      "cell_type": "code",
      "source": [
        "age = 25\n",
        "print(age)\n",
        "age=4\n",
        "print(age)"
      ],
      "metadata": {
        "colab": {
          "base_uri": "https://localhost:8080/"
        },
        "id": "AuetrjM1myQD",
        "outputId": "6c2d6731-9038-4132-a27b-7e59d33380ee"
      },
      "execution_count": 5,
      "outputs": [
        {
          "output_type": "stream",
          "name": "stdout",
          "text": [
            "25\n",
            "4\n"
          ]
        }
      ]
    },
    {
      "cell_type": "code",
      "source": [
        "# the variable y is not recognized\n",
        "# because it hasn't been assigned a value before\n",
        "# so there is not a value to print\n",
        "print(y)"
      ],
      "metadata": {
        "colab": {
          "base_uri": "https://localhost:8080/",
          "height": 214
        },
        "id": "RBwE5ZsXm64Z",
        "outputId": "28465519-9deb-47c2-a4ed-cb2fd6fba4b2"
      },
      "execution_count": 6,
      "outputs": [
        {
          "output_type": "error",
          "ename": "NameError",
          "evalue": "ignored",
          "traceback": [
            "\u001b[0;31m---------------------------------------------------------------------------\u001b[0m",
            "\u001b[0;31mNameError\u001b[0m                                 Traceback (most recent call last)",
            "\u001b[0;32m<ipython-input-6-c59c8155c284>\u001b[0m in \u001b[0;36m<cell line: 4>\u001b[0;34m()\u001b[0m\n\u001b[1;32m      2\u001b[0m \u001b[0;31m# because it hasn't been assigned a value before\u001b[0m\u001b[0;34m\u001b[0m\u001b[0;34m\u001b[0m\u001b[0m\n\u001b[1;32m      3\u001b[0m \u001b[0;31m# so there is not a value to print\u001b[0m\u001b[0;34m\u001b[0m\u001b[0;34m\u001b[0m\u001b[0m\n\u001b[0;32m----> 4\u001b[0;31m \u001b[0mprint\u001b[0m\u001b[0;34m(\u001b[0m\u001b[0my\u001b[0m\u001b[0;34m)\u001b[0m\u001b[0;34m\u001b[0m\u001b[0;34m\u001b[0m\u001b[0m\n\u001b[0m",
            "\u001b[0;31mNameError\u001b[0m: name 'y' is not defined"
          ]
        }
      ]
    },
    {
      "cell_type": "markdown",
      "source": [
        "##Naming rules and keywords"
      ],
      "metadata": {
        "id": "ADnXOsm8EjSD"
      }
    },
    {
      "cell_type": "code",
      "source": [
        "\"\"\"\n",
        "vaiable names should have a combination of letters\n",
        "in lower case (a to z)\n",
        "or uppercase (A to Z)\n",
        "or digits (0 to 9)\n",
        "or an underscore (_)\n",
        "\"\"\""
      ],
      "metadata": {
        "id": "M-y1SMhbnlio",
        "colab": {
          "base_uri": "https://localhost:8080/",
          "height": 35
        },
        "outputId": "289c80a1-9050-405f-e198-3c13e733e904"
      },
      "execution_count": 7,
      "outputs": [
        {
          "output_type": "execute_result",
          "data": {
            "text/plain": [
              "'\\nvaiable names should have a combination of letters\\nin lower case (a to z)\\nor uppercase (A to Z)\\nor digits (0 to 9)\\nor an underscore (_)\\n'"
            ],
            "application/vnd.google.colaboratory.intrinsic+json": {
              "type": "string"
            }
          },
          "metadata": {},
          "execution_count": 7
        }
      ]
    },
    {
      "cell_type": "code",
      "source": [
        "Age=3\n",
        "age2=4\n",
        "age_of_someone=3"
      ],
      "metadata": {
        "id": "IPGhZL8en5gw"
      },
      "execution_count": 8,
      "outputs": []
    },
    {
      "cell_type": "code",
      "source": [
        "#don't start a variable name with a digit\n",
        "1y=4"
      ],
      "metadata": {
        "colab": {
          "base_uri": "https://localhost:8080/",
          "height": 143
        },
        "id": "ihp2B-9doGFK",
        "outputId": "3bc66d5c-dccd-4a73-d122-3e6d25e19ab6"
      },
      "execution_count": 9,
      "outputs": [
        {
          "output_type": "error",
          "ename": "SyntaxError",
          "evalue": "ignored",
          "traceback": [
            "\u001b[0;36m  File \u001b[0;32m\"<ipython-input-9-1daba6c25a89>\"\u001b[0;36m, line \u001b[0;32m2\u001b[0m\n\u001b[0;31m    1y=4\u001b[0m\n\u001b[0m    ^\u001b[0m\n\u001b[0;31mSyntaxError\u001b[0m\u001b[0;31m:\u001b[0m invalid decimal literal\n"
          ]
        }
      ]
    },
    {
      "cell_type": "code",
      "source": [
        "# uppercase is for constant in python (les bonnes pratiques)\n",
        "AGE=5"
      ],
      "metadata": {
        "id": "oN_kE7dzoTD2"
      },
      "execution_count": 10,
      "outputs": []
    },
    {
      "cell_type": "code",
      "source": [
        "# create a name that makes sense\n",
        "jsoosj=0 # avoid using unclear or unrelated variable names\n",
        "game_score=0"
      ],
      "metadata": {
        "id": "p8SWMGkfowGD"
      },
      "execution_count": 12,
      "outputs": []
    },
    {
      "cell_type": "code",
      "source": [
        "# a variable name having two words or more\n",
        "number_of_cats=4\n",
        "NumberOfCars=1"
      ],
      "metadata": {
        "id": "ZrPQc6sdo3go"
      },
      "execution_count": 13,
      "outputs": []
    },
    {
      "cell_type": "code",
      "source": [
        "^=4 # incorrect variable names"
      ],
      "metadata": {
        "id": "p5ZjrHmKpLR6"
      },
      "execution_count": null,
      "outputs": []
    },
    {
      "cell_type": "code",
      "source": [
        "# Keywords are the reserves words in Python\n",
        "# they can not be used as oridnary varibales\n",
        "if=3 # incorrect variable names"
      ],
      "metadata": {
        "id": "nRUxX1drpiai"
      },
      "execution_count": null,
      "outputs": []
    },
    {
      "cell_type": "code",
      "source": [
        "#here is the list of the keywords in Python\n",
        "import keyword\n",
        "print(keyword.kwlist)"
      ],
      "metadata": {
        "colab": {
          "base_uri": "https://localhost:8080/"
        },
        "id": "UHipInXDp0fI",
        "outputId": "ed439386-1915-4fc6-ed35-9fa1acdc3452"
      },
      "execution_count": 14,
      "outputs": [
        {
          "output_type": "stream",
          "name": "stdout",
          "text": [
            "['False', 'None', 'True', 'and', 'as', 'assert', 'async', 'await', 'break', 'class', 'continue', 'def', 'del', 'elif', 'else', 'except', 'finally', 'for', 'from', 'global', 'if', 'import', 'in', 'is', 'lambda', 'nonlocal', 'not', 'or', 'pass', 'raise', 'return', 'try', 'while', 'with', 'yield']\n"
          ]
        }
      ]
    },
    {
      "cell_type": "markdown",
      "source": [
        "## Data types"
      ],
      "metadata": {
        "id": "ArKYY78-w3c-"
      }
    },
    {
      "cell_type": "code",
      "source": [
        "# Integers\n",
        "b=4\n",
        "print(type(b))"
      ],
      "metadata": {
        "colab": {
          "base_uri": "https://localhost:8080/"
        },
        "id": "7SHbpQikOE8-",
        "outputId": "65d02196-a694-42c9-c162-3020bfe1e20f"
      },
      "execution_count": 15,
      "outputs": [
        {
          "output_type": "stream",
          "name": "stdout",
          "text": [
            "<class 'int'>\n"
          ]
        }
      ]
    },
    {
      "cell_type": "code",
      "source": [
        "# floats\n",
        "poids=55.55\n",
        "print(poids)\n",
        "print(type(poids))"
      ],
      "metadata": {
        "colab": {
          "base_uri": "https://localhost:8080/"
        },
        "id": "c50LtoWPOw4H",
        "outputId": "fb7f06f8-217e-43e6-d674-6fdc4c28ceec"
      },
      "execution_count": 16,
      "outputs": [
        {
          "output_type": "stream",
          "name": "stdout",
          "text": [
            "55.55\n",
            "<class 'float'>\n"
          ]
        }
      ]
    },
    {
      "cell_type": "code",
      "source": [
        "# String\n",
        "text=\"bla bla\"\n",
        "print(text)\n",
        "print(type(text))\n",
        "longtext=\"\"\"\n",
        "bla bla\n",
        "test test\n",
        "\"\"\"\n",
        "print(longtext)"
      ],
      "metadata": {
        "colab": {
          "base_uri": "https://localhost:8080/"
        },
        "id": "T5ujRgTOPPJ3",
        "outputId": "fae94301-e8bd-4474-d2c4-b34add2c1903"
      },
      "execution_count": 17,
      "outputs": [
        {
          "output_type": "stream",
          "name": "stdout",
          "text": [
            "bla bla\n",
            "<class 'str'>\n",
            "\n",
            "bla bla\n",
            "test test\n",
            "\n"
          ]
        }
      ]
    },
    {
      "cell_type": "code",
      "source": [
        "# Booleans\n",
        "is_studnet=True\n",
        "print(is_studnet)\n",
        "print(type(is_studnet))"
      ],
      "metadata": {
        "colab": {
          "base_uri": "https://localhost:8080/"
        },
        "id": "HUcu8t0yPu-i",
        "outputId": "6eba554c-a29f-4f51-c4f8-f6a63a50b297"
      },
      "execution_count": 18,
      "outputs": [
        {
          "output_type": "stream",
          "name": "stdout",
          "text": [
            "True\n",
            "<class 'bool'>\n"
          ]
        }
      ]
    },
    {
      "cell_type": "code",
      "source": [
        "is_teacher=False\n",
        "print(is_teacher)\n",
        "print(type(is_teacher))"
      ],
      "metadata": {
        "colab": {
          "base_uri": "https://localhost:8080/"
        },
        "id": "VCkvDXpQsY_T",
        "outputId": "c69cb0bb-920c-44f4-a462-487c45e78ff0"
      },
      "execution_count": 19,
      "outputs": [
        {
          "output_type": "stream",
          "name": "stdout",
          "text": [
            "False\n",
            "<class 'bool'>\n"
          ]
        }
      ]
    },
    {
      "cell_type": "markdown",
      "source": [
        "##Basic operators"
      ],
      "metadata": {
        "id": "ds7n-oWIxLag"
      }
    },
    {
      "cell_type": "code",
      "source": [
        "# Addition\n",
        "result=4+5.7\n",
        "result"
      ],
      "metadata": {
        "colab": {
          "base_uri": "https://localhost:8080/"
        },
        "id": "y5sHzwuZxQ3B",
        "outputId": "e7414261-3b5c-4d68-e39e-7935e8e609b4"
      },
      "execution_count": 20,
      "outputs": [
        {
          "output_type": "execute_result",
          "data": {
            "text/plain": [
              "9.7"
            ]
          },
          "metadata": {},
          "execution_count": 20
        }
      ]
    },
    {
      "cell_type": "code",
      "source": [
        "# Subtraction\n",
        "difference=5-7.5\n",
        "difference"
      ],
      "metadata": {
        "colab": {
          "base_uri": "https://localhost:8080/"
        },
        "id": "cu_W8cEwxWHi",
        "outputId": "cd3b7964-629e-4654-f17f-a23973f89dd1"
      },
      "execution_count": 21,
      "outputs": [
        {
          "output_type": "execute_result",
          "data": {
            "text/plain": [
              "-2.5"
            ]
          },
          "metadata": {},
          "execution_count": 21
        }
      ]
    },
    {
      "cell_type": "code",
      "source": [
        "# Multiplication\n",
        "product=5*4998.5\n",
        "product"
      ],
      "metadata": {
        "colab": {
          "base_uri": "https://localhost:8080/"
        },
        "id": "pUlZKCy9xYs7",
        "outputId": "64a83f95-ae87-4a2c-f716-d620c5ef7d4b"
      },
      "execution_count": 22,
      "outputs": [
        {
          "output_type": "execute_result",
          "data": {
            "text/plain": [
              "24992.5"
            ]
          },
          "metadata": {},
          "execution_count": 22
        }
      ]
    },
    {
      "cell_type": "code",
      "source": [
        "# Division\n",
        "quotient=70/7\n",
        "quotient"
      ],
      "metadata": {
        "colab": {
          "base_uri": "https://localhost:8080/"
        },
        "id": "0k0LLfKFxbds",
        "outputId": "4601e3a0-89e9-4bbd-8deb-59e398bca8dc"
      },
      "execution_count": 23,
      "outputs": [
        {
          "output_type": "execute_result",
          "data": {
            "text/plain": [
              "10.0"
            ]
          },
          "metadata": {},
          "execution_count": 23
        }
      ]
    },
    {
      "cell_type": "code",
      "source": [
        "# Modulo %\n",
        "remainder=3%2\n",
        "remainder"
      ],
      "metadata": {
        "colab": {
          "base_uri": "https://localhost:8080/"
        },
        "id": "L9cvuTVyxf7a",
        "outputId": "6573eff4-8033-4248-f90f-2d21dada7d6a"
      },
      "execution_count": 24,
      "outputs": [
        {
          "output_type": "execute_result",
          "data": {
            "text/plain": [
              "1"
            ]
          },
          "metadata": {},
          "execution_count": 24
        }
      ]
    },
    {
      "cell_type": "code",
      "source": [
        "# Exponent\n",
        "power=2.3**3\n",
        "power"
      ],
      "metadata": {
        "colab": {
          "base_uri": "https://localhost:8080/"
        },
        "id": "ZSdDohNVxgzU",
        "outputId": "acbc71c6-2b57-44a1-8110-312ce11602b5"
      },
      "execution_count": 25,
      "outputs": [
        {
          "output_type": "execute_result",
          "data": {
            "text/plain": [
              "12.166999999999998"
            ]
          },
          "metadata": {},
          "execution_count": 25
        }
      ]
    },
    {
      "cell_type": "markdown",
      "source": [
        "##Working with Data Types"
      ],
      "metadata": {
        "id": "QOFIIHHixkbU"
      }
    },
    {
      "cell_type": "code",
      "source": [
        "# You can perform operations on integers and floats just like in math.\n",
        "average=(10.5+2)/2\n",
        "print(average)"
      ],
      "metadata": {
        "colab": {
          "base_uri": "https://localhost:8080/"
        },
        "id": "FnCEtJFi_-LJ",
        "outputId": "c462ac4b-1155-4616-a30c-4d6e4579b005"
      },
      "execution_count": 26,
      "outputs": [
        {
          "output_type": "stream",
          "name": "stdout",
          "text": [
            "6.25\n"
          ]
        }
      ]
    },
    {
      "cell_type": "code",
      "source": [
        "# We can add strings and they will stick together\n",
        "sentence=\"Hello\"+\" World\"\n",
        "print(sentence)\n",
        "This_is_string='sjsoos'\n",
        "sentence+This_is_string"
      ],
      "metadata": {
        "colab": {
          "base_uri": "https://localhost:8080/",
          "height": 53
        },
        "id": "NQFfhEWblqhP",
        "outputId": "5918edab-fbe8-4ffa-e13c-e1c8cf842fa6"
      },
      "execution_count": 32,
      "outputs": [
        {
          "output_type": "stream",
          "name": "stdout",
          "text": [
            "Hello World\n"
          ]
        },
        {
          "output_type": "execute_result",
          "data": {
            "text/plain": [
              "'Hello Worldsjsoos'"
            ],
            "application/vnd.google.colaboratory.intrinsic+json": {
              "type": "string"
            }
          },
          "metadata": {},
          "execution_count": 32
        }
      ]
    },
    {
      "cell_type": "markdown",
      "source": [
        "## Input and Output"
      ],
      "metadata": {
        "id": "j8tz-2dsygKB"
      }
    },
    {
      "cell_type": "markdown",
      "source": [
        "**Input (Getting Information):**\n",
        "\n"
      ],
      "metadata": {
        "id": "TkaWw6Qoyjss"
      }
    },
    {
      "cell_type": "code",
      "source": [
        "name = input(\"What's your name? \")\n",
        "print(type(name))\n",
        "print(\"Hello, \" + name + \"!\")"
      ],
      "metadata": {
        "id": "yLLXtqmbyhSJ",
        "colab": {
          "base_uri": "https://localhost:8080/"
        },
        "outputId": "2ae8eaa5-fc4e-47f8-a5f1-ca913e1dab54"
      },
      "execution_count": 33,
      "outputs": [
        {
          "output_type": "stream",
          "name": "stdout",
          "text": [
            "What's your name? Sarah\n",
            "<class 'str'>\n",
            "Hello, Sarah!\n"
          ]
        }
      ]
    },
    {
      "cell_type": "markdown",
      "source": [
        "**Output (Showing Information):**"
      ],
      "metadata": {
        "id": "q3c1p1aSyn4Z"
      }
    },
    {
      "cell_type": "code",
      "source": [
        "print(name) # print the value of variable"
      ],
      "metadata": {
        "colab": {
          "base_uri": "https://localhost:8080/"
        },
        "id": "maGB9cxJnHXx",
        "outputId": "09fef718-257c-4a6c-d55e-36badc0abd44"
      },
      "execution_count": 34,
      "outputs": [
        {
          "output_type": "stream",
          "name": "stdout",
          "text": [
            "Sarah\n"
          ]
        }
      ]
    },
    {
      "cell_type": "code",
      "source": [
        "print(\"Hellooo\") # print text in the screen"
      ],
      "metadata": {
        "colab": {
          "base_uri": "https://localhost:8080/"
        },
        "id": "TN7awMcvnJe7",
        "outputId": "f94efa0f-ba15-4bbf-87a0-1582c3ee7d96"
      },
      "execution_count": 36,
      "outputs": [
        {
          "output_type": "stream",
          "name": "stdout",
          "text": [
            "Hellooo\n"
          ]
        }
      ]
    },
    {
      "cell_type": "code",
      "source": [
        "age=3\n",
        "print(\"her age is \"+age) # This will result in an error because you can't concatenate a string with an integer"
      ],
      "metadata": {
        "id": "GBoGJvFxn90N"
      },
      "execution_count": null,
      "outputs": []
    },
    {
      "cell_type": "code",
      "source": [
        "print(\"her age is \"+str(age))\n",
        "# Convert the integer 'age' to a string using the str() function"
      ],
      "metadata": {
        "colab": {
          "base_uri": "https://localhost:8080/"
        },
        "id": "BXE-MDnmnOAa",
        "outputId": "dda74603-9866-407a-b4b8-978d9dd5d8e3"
      },
      "execution_count": 37,
      "outputs": [
        {
          "output_type": "stream",
          "name": "stdout",
          "text": [
            "her age is 4\n"
          ]
        }
      ]
    },
    {
      "cell_type": "code",
      "source": [
        "x=input(\"What's x?\")\n",
        "y=input(\"What's y?\")\n",
        "z=x+y\n",
        "print(z) # The result will be a concatenation of the values of 'x' and 'y'\n",
        "# This is because the input values are treated as strings by default"
      ],
      "metadata": {
        "colab": {
          "base_uri": "https://localhost:8080/"
        },
        "id": "-MoTlcN4oDw8",
        "outputId": "1d86c103-53f2-4daf-926b-8b4611b6ca4a"
      },
      "execution_count": 38,
      "outputs": [
        {
          "output_type": "stream",
          "name": "stdout",
          "text": [
            "What's x?2\n",
            "What's y?2\n",
            "22\n"
          ]
        }
      ]
    },
    {
      "cell_type": "code",
      "source": [
        "z=int(x)+int(y)\n",
        "print(z)\n",
        "type(z)\n",
        "\"\"\"\n",
        "The result is now correct.\n",
        "The use of int(x), is called “casting” where a value is temporarily changed from one type of variable (in this case a string)\n",
        "to another (here, an integer).\n",
        "\"\"\""
      ],
      "metadata": {
        "colab": {
          "base_uri": "https://localhost:8080/",
          "height": 71
        },
        "id": "h-_rpmw2ol_Y",
        "outputId": "bd5551e4-617e-447b-9c7d-2a51f3999a13"
      },
      "execution_count": 39,
      "outputs": [
        {
          "output_type": "stream",
          "name": "stdout",
          "text": [
            "4\n"
          ]
        },
        {
          "output_type": "execute_result",
          "data": {
            "text/plain": [
              "'\\nThe result is now correct. \\nThe use of int(x), is called “casting” where a value is temporarily changed from one type of variable (in this case a string) \\nto another (here, an integer).\\n'"
            ],
            "application/vnd.google.colaboratory.intrinsic+json": {
              "type": "string"
            }
          },
          "metadata": {},
          "execution_count": 39
        }
      ]
    },
    {
      "cell_type": "code",
      "source": [
        "type(x)\n",
        "type(y)"
      ],
      "metadata": {
        "colab": {
          "base_uri": "https://localhost:8080/"
        },
        "id": "GV3ylA1Ro0z5",
        "outputId": "be5f186e-34cc-4acd-b73b-f9bed41c9fcd"
      },
      "execution_count": 40,
      "outputs": [
        {
          "output_type": "execute_result",
          "data": {
            "text/plain": [
              "str"
            ]
          },
          "metadata": {},
          "execution_count": 40
        }
      ]
    },
    {
      "cell_type": "code",
      "source": [
        "# We can further improve our program as follows:\n",
        "# By using float(), we ensure that 'x' and 'y' are treated as float\n",
        "x = float(input(\"What's x?\"))\n",
        "y = float(input(\"What's y?\"))\n",
        "z=x+y\n",
        "print(z)\n",
        "print(type(x))\n",
        "print(type(y))"
      ],
      "metadata": {
        "colab": {
          "base_uri": "https://localhost:8080/"
        },
        "id": "wr4RbGw1o_jG",
        "outputId": "40f2ec21-c6cd-42ec-cec3-52300938fedb"
      },
      "execution_count": 41,
      "outputs": [
        {
          "output_type": "stream",
          "name": "stdout",
          "text": [
            "What's x?2\n",
            "What's y?4\n",
            "6.0\n",
            "<class 'float'>\n",
            "<class 'float'>\n"
          ]
        }
      ]
    },
    {
      "cell_type": "code",
      "source": [
        "chaine=\"True\"\n",
        "bool(chaine) # This converts the string \"True\" to the boolean value True"
      ],
      "metadata": {
        "colab": {
          "base_uri": "https://localhost:8080/"
        },
        "id": "wIYk22ZvqTcd",
        "outputId": "0326cd7e-feef-440a-972d-3e5dd5c33189"
      },
      "execution_count": 42,
      "outputs": [
        {
          "output_type": "execute_result",
          "data": {
            "text/plain": [
              "True"
            ]
          },
          "metadata": {},
          "execution_count": 42
        }
      ]
    }
  ]
}