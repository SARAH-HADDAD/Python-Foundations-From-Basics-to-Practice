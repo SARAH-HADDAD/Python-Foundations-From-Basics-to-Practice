{
  "nbformat": 4,
  "nbformat_minor": 0,
  "metadata": {
    "colab": {
      "provenance": []
    },
    "kernelspec": {
      "name": "python3",
      "display_name": "Python 3"
    },
    "language_info": {
      "name": "python"
    }
  },
  "cells": [
    {
      "cell_type": "markdown",
      "source": [
        "# **Session2:Making Choices with if-else**"
      ],
      "metadata": {
        "id": "pGr1CWWSk7eA"
      }
    },
    {
      "cell_type": "markdown",
      "source": [
        "https://colab.research.google.com/drive/1vdC0O6IWxKYdJaF-mzSGnizAHxrFBiHI?authuser=3#scrollTo=o3IOHUd6XvCc"
      ],
      "metadata": {
        "id": "o3IOHUd6XvCc"
      }
    },
    {
      "cell_type": "markdown",
      "source": [
        "## Logical Operators"
      ],
      "metadata": {
        "id": "iZx3EnjKlNab"
      }
    },
    {
      "cell_type": "code",
      "source": [
        "# 1”. \"and\" Operator:\n",
        "True and True"
      ],
      "metadata": {
        "colab": {
          "base_uri": "https://localhost:8080/"
        },
        "id": "bF2mFr9FlOtF",
        "outputId": "533ec019-7a6f-45c0-f462-95a334a31c49"
      },
      "execution_count": 1,
      "outputs": [
        {
          "output_type": "execute_result",
          "data": {
            "text/plain": [
              "True"
            ]
          },
          "metadata": {},
          "execution_count": 1
        }
      ]
    },
    {
      "cell_type": "code",
      "source": [
        "True and False and True and True"
      ],
      "metadata": {
        "colab": {
          "base_uri": "https://localhost:8080/"
        },
        "id": "euM78bqZ1PY0",
        "outputId": "48a52ae2-6e53-4e79-9de6-2beadb0b13c7"
      },
      "execution_count": 2,
      "outputs": [
        {
          "output_type": "execute_result",
          "data": {
            "text/plain": [
              "False"
            ]
          },
          "metadata": {},
          "execution_count": 2
        }
      ]
    },
    {
      "cell_type": "code",
      "source": [
        "False and False"
      ],
      "metadata": {
        "colab": {
          "base_uri": "https://localhost:8080/"
        },
        "id": "aMJCfjU21Qp7",
        "outputId": "48aed2ba-5de1-42fd-d19b-3c9220fb34c9"
      },
      "execution_count": 3,
      "outputs": [
        {
          "output_type": "execute_result",
          "data": {
            "text/plain": [
              "False"
            ]
          },
          "metadata": {},
          "execution_count": 3
        }
      ]
    },
    {
      "cell_type": "code",
      "source": [
        "# exemple:\n",
        "is_sunny = True\n",
        "is_warm = False\n",
        "have_picnic= is_sunny and is_warm\n",
        "have_picnic"
      ],
      "metadata": {
        "colab": {
          "base_uri": "https://localhost:8080/"
        },
        "id": "l4JVe9HFzaT1",
        "outputId": "b17e1f6b-026a-40de-eca7-4f45d6dbbf80"
      },
      "execution_count": 4,
      "outputs": [
        {
          "output_type": "execute_result",
          "data": {
            "text/plain": [
              "False"
            ]
          },
          "metadata": {},
          "execution_count": 4
        }
      ]
    },
    {
      "cell_type": "code",
      "source": [
        " # 2. \"or\" Operator:\n",
        "True or True"
      ],
      "metadata": {
        "colab": {
          "base_uri": "https://localhost:8080/"
        },
        "id": "FvCmKnC0zVQi",
        "outputId": "fbfa41af-6579-4bbc-8fd7-a547bd5632fd"
      },
      "execution_count": 5,
      "outputs": [
        {
          "output_type": "execute_result",
          "data": {
            "text/plain": [
              "True"
            ]
          },
          "metadata": {},
          "execution_count": 5
        }
      ]
    },
    {
      "cell_type": "code",
      "source": [
        "True or False"
      ],
      "metadata": {
        "colab": {
          "base_uri": "https://localhost:8080/"
        },
        "id": "skTQoMIe1TBM",
        "outputId": "2fc0daa1-4110-44eb-dffa-88f4042509fc"
      },
      "execution_count": 6,
      "outputs": [
        {
          "output_type": "execute_result",
          "data": {
            "text/plain": [
              "True"
            ]
          },
          "metadata": {},
          "execution_count": 6
        }
      ]
    },
    {
      "cell_type": "code",
      "source": [
        "False or False or False or False or True"
      ],
      "metadata": {
        "colab": {
          "base_uri": "https://localhost:8080/"
        },
        "id": "0M7ojrJ8ttWX",
        "outputId": "2f821c61-d11d-4219-82eb-1ae5a8e998dd"
      },
      "execution_count": 7,
      "outputs": [
        {
          "output_type": "execute_result",
          "data": {
            "text/plain": [
              "True"
            ]
          },
          "metadata": {},
          "execution_count": 7
        }
      ]
    },
    {
      "cell_type": "code",
      "source": [
        "False or False"
      ],
      "metadata": {
        "colab": {
          "base_uri": "https://localhost:8080/"
        },
        "id": "aOugaOVI1Uv4",
        "outputId": "afa49b30-7806-4d1c-8e2c-e100a9fe5a41"
      },
      "execution_count": 8,
      "outputs": [
        {
          "output_type": "execute_result",
          "data": {
            "text/plain": [
              "False"
            ]
          },
          "metadata": {},
          "execution_count": 8
        }
      ]
    },
    {
      "cell_type": "code",
      "source": [
        "# exemple:\n",
        "is_weekend = False\n",
        "day_off = True\n",
        "watch_movie= is_weekend or day_off\n",
        "watch_movie"
      ],
      "metadata": {
        "colab": {
          "base_uri": "https://localhost:8080/"
        },
        "id": "XIQmTaFwzyn2",
        "outputId": "67b8056a-d4ce-4318-f132-635b98460e50"
      },
      "execution_count": 9,
      "outputs": [
        {
          "output_type": "execute_result",
          "data": {
            "text/plain": [
              "True"
            ]
          },
          "metadata": {},
          "execution_count": 9
        }
      ]
    },
    {
      "cell_type": "code",
      "source": [
        "# 3. \"not\" Operator:\n",
        "not True"
      ],
      "metadata": {
        "colab": {
          "base_uri": "https://localhost:8080/"
        },
        "id": "F6FY9xSAz1JZ",
        "outputId": "274d0a3b-ab1d-4d59-ca1b-005902f9972c"
      },
      "execution_count": 10,
      "outputs": [
        {
          "output_type": "execute_result",
          "data": {
            "text/plain": [
              "False"
            ]
          },
          "metadata": {},
          "execution_count": 10
        }
      ]
    },
    {
      "cell_type": "code",
      "source": [
        "not False"
      ],
      "metadata": {
        "colab": {
          "base_uri": "https://localhost:8080/"
        },
        "id": "7VtIpRDk1WmC",
        "outputId": "d9e320fe-9606-42cb-bd2b-329be75c37bd"
      },
      "execution_count": 11,
      "outputs": [
        {
          "output_type": "execute_result",
          "data": {
            "text/plain": [
              "True"
            ]
          },
          "metadata": {},
          "execution_count": 11
        }
      ]
    },
    {
      "cell_type": "code",
      "source": [
        "is_weekday= not is_weekend\n",
        "is_weekday"
      ],
      "metadata": {
        "colab": {
          "base_uri": "https://localhost:8080/"
        },
        "id": "6fBpKyYI0LLM",
        "outputId": "f56ba908-38f2-4327-b3fb-2d6b424d671b"
      },
      "execution_count": 12,
      "outputs": [
        {
          "output_type": "execute_result",
          "data": {
            "text/plain": [
              "True"
            ]
          },
          "metadata": {},
          "execution_count": 12
        }
      ]
    },
    {
      "cell_type": "markdown",
      "source": [
        "## Comparison Operators"
      ],
      "metadata": {
        "id": "rC9sZMuylPJp"
      }
    },
    {
      "cell_type": "code",
      "source": [
        "#1. Equal (==):\n",
        "1 == 1"
      ],
      "metadata": {
        "colab": {
          "base_uri": "https://localhost:8080/"
        },
        "id": "Es5dtvRclTAD",
        "outputId": "c2eaa37f-d98b-4db4-bea8-c11fe6b93c70"
      },
      "execution_count": 13,
      "outputs": [
        {
          "output_type": "execute_result",
          "data": {
            "text/plain": [
              "True"
            ]
          },
          "metadata": {},
          "execution_count": 13
        }
      ]
    },
    {
      "cell_type": "code",
      "source": [
        "# exemple:\n",
        "x = 5\n",
        "y = 3\n",
        "are_equal=x==y\n",
        "are_equal"
      ],
      "metadata": {
        "colab": {
          "base_uri": "https://localhost:8080/"
        },
        "id": "ix5Fg5EN1jhC",
        "outputId": "55b3ecdd-f52a-4871-e835-24236034c42d"
      },
      "execution_count": 14,
      "outputs": [
        {
          "output_type": "execute_result",
          "data": {
            "text/plain": [
              "False"
            ]
          },
          "metadata": {},
          "execution_count": 14
        }
      ]
    },
    {
      "cell_type": "code",
      "source": [
        "#2. Not Equal (!=):\n",
        "3 != 2"
      ],
      "metadata": {
        "colab": {
          "base_uri": "https://localhost:8080/"
        },
        "id": "A4iLazS81o5d",
        "outputId": "291ad3fa-d771-43f3-f23d-c76973d2b143"
      },
      "execution_count": 15,
      "outputs": [
        {
          "output_type": "execute_result",
          "data": {
            "text/plain": [
              "True"
            ]
          },
          "metadata": {},
          "execution_count": 15
        }
      ]
    },
    {
      "cell_type": "code",
      "source": [
        "# exemple:\n",
        "are_not_equal= x!=y\n",
        "print(are_not_equal)"
      ],
      "metadata": {
        "colab": {
          "base_uri": "https://localhost:8080/"
        },
        "id": "kZ8l1zvt15xc",
        "outputId": "7a0c45f6-6b29-4d97-cf37-aa1160429966"
      },
      "execution_count": 16,
      "outputs": [
        {
          "output_type": "stream",
          "name": "stdout",
          "text": [
            "True\n"
          ]
        }
      ]
    },
    {
      "cell_type": "code",
      "source": [
        "#3. Greater Than (>):\n",
        "1 > 2"
      ],
      "metadata": {
        "colab": {
          "base_uri": "https://localhost:8080/"
        },
        "id": "cGwXAz-z2BU2",
        "outputId": "96ca1b83-056c-41ed-ea90-a3e30fa22b1b"
      },
      "execution_count": 17,
      "outputs": [
        {
          "output_type": "execute_result",
          "data": {
            "text/plain": [
              "False"
            ]
          },
          "metadata": {},
          "execution_count": 17
        }
      ]
    },
    {
      "cell_type": "code",
      "source": [
        "# exemple:\n",
        "temperature = -10\n",
        "is_hot=temperature>30\n",
        "is_hot"
      ],
      "metadata": {
        "colab": {
          "base_uri": "https://localhost:8080/"
        },
        "id": "IcVXjgEU2ILi",
        "outputId": "da120151-7e45-4317-b6dc-88154bb16ed2"
      },
      "execution_count": 18,
      "outputs": [
        {
          "output_type": "execute_result",
          "data": {
            "text/plain": [
              "False"
            ]
          },
          "metadata": {},
          "execution_count": 18
        }
      ]
    },
    {
      "cell_type": "code",
      "source": [
        "#4. Less Than (<):\n",
        "1 < 2"
      ],
      "metadata": {
        "colab": {
          "base_uri": "https://localhost:8080/"
        },
        "id": "bQbeAw4p2NrQ",
        "outputId": "ec0afdeb-725c-4d21-edec-3bf4cb3f4418"
      },
      "execution_count": 19,
      "outputs": [
        {
          "output_type": "execute_result",
          "data": {
            "text/plain": [
              "True"
            ]
          },
          "metadata": {},
          "execution_count": 19
        }
      ]
    },
    {
      "cell_type": "code",
      "source": [
        "# exemple:\n",
        "freezing=temperature<0\n",
        "freezing"
      ],
      "metadata": {
        "colab": {
          "base_uri": "https://localhost:8080/"
        },
        "id": "Qh9t1kNH2UOL",
        "outputId": "2ab05f07-e74f-41ec-b3c4-d60bfbc10544"
      },
      "execution_count": 20,
      "outputs": [
        {
          "output_type": "execute_result",
          "data": {
            "text/plain": [
              "True"
            ]
          },
          "metadata": {},
          "execution_count": 20
        }
      ]
    },
    {
      "cell_type": "code",
      "source": [
        "#5. Greater Than or Equal To (>=):\n",
        "marks = int(input(\"Enter the marks: \"))\n",
        "passed=marks>=10\n",
        "passed"
      ],
      "metadata": {
        "colab": {
          "base_uri": "https://localhost:8080/"
        },
        "id": "D6k8nQnJ2XUG",
        "outputId": "e2d87085-fa22-430b-df68-19ff2b4307bf"
      },
      "execution_count": 21,
      "outputs": [
        {
          "name": "stdout",
          "output_type": "stream",
          "text": [
            "Enter the marks: 10\n"
          ]
        },
        {
          "output_type": "execute_result",
          "data": {
            "text/plain": [
              "True"
            ]
          },
          "metadata": {},
          "execution_count": 21
        }
      ]
    },
    {
      "cell_type": "code",
      "source": [
        "#6. ess Than or Equal To (<=):\n",
        "age = int(input(\"Enter your age: \"))\n",
        "is_child=age<=12\n",
        "is_child"
      ],
      "metadata": {
        "colab": {
          "base_uri": "https://localhost:8080/"
        },
        "id": "xAnz_5bT2jP_",
        "outputId": "d6753485-a970-46b2-f5c5-353c5572a5cb"
      },
      "execution_count": 22,
      "outputs": [
        {
          "name": "stdout",
          "output_type": "stream",
          "text": [
            "Enter your age: 3\n"
          ]
        },
        {
          "output_type": "execute_result",
          "data": {
            "text/plain": [
              "True"
            ]
          },
          "metadata": {},
          "execution_count": 22
        }
      ]
    },
    {
      "cell_type": "code",
      "source": [
        "print(not 1 == 1)\n",
        "print(1 < 2 or 3 < 1)\n",
        "print(3 < 1 or 1 > 6)\n",
        "print(1 == 1 or 1 < 2)\n",
        "print(1 == 1 and 1 < 2)\n",
        "print(1 < 2 and 3 < 1)"
      ],
      "metadata": {
        "colab": {
          "base_uri": "https://localhost:8080/"
        },
        "id": "hXD1XYnK2oIq",
        "outputId": "4689384f-fc8f-473a-bffd-e59bf7bd10dd"
      },
      "execution_count": 23,
      "outputs": [
        {
          "output_type": "stream",
          "name": "stdout",
          "text": [
            "False\n",
            "True\n",
            "False\n",
            "True\n",
            "True\n",
            "False\n"
          ]
        }
      ]
    },
    {
      "cell_type": "markdown",
      "source": [
        "## If Statement"
      ],
      "metadata": {
        "id": "8-F7GYD7lZgY"
      }
    },
    {
      "cell_type": "code",
      "source": [
        "# exemple 1:\n",
        "is_raining = False\n",
        "if is_raining:\n",
        "  print(\"If it's raining\")\n",
        "  print(\"I'll take an umbrella.\")"
      ],
      "metadata": {
        "id": "XNaj5ecvlarC"
      },
      "execution_count": 24,
      "outputs": []
    },
    {
      "cell_type": "markdown",
      "source": [
        "## Indentation"
      ],
      "metadata": {
        "id": "nlRU9a52ld0p"
      }
    },
    {
      "cell_type": "code",
      "source": [
        "x=-5\n",
        "if False:\n",
        "  print(\"x is positive\")\n",
        "  print(\"This line is also inside the if block\")\n",
        "\n",
        "print(\"This line is outside the if block\")"
      ],
      "metadata": {
        "colab": {
          "base_uri": "https://localhost:8080/"
        },
        "id": "vehx4dg0lfYH",
        "outputId": "b2b2c46a-f29f-4720-caff-1e5e053600d4"
      },
      "execution_count": 25,
      "outputs": [
        {
          "output_type": "stream",
          "name": "stdout",
          "text": [
            "This line is outside the if block\n"
          ]
        }
      ]
    },
    {
      "cell_type": "code",
      "source": [
        "# exemple 2:\n",
        "test_value = 100\n",
        "\n",
        "if test_value > 1:\n",
        "  # Expression evaluates to True\n",
        "  print(\"This code is executed!\")\n",
        "###\n",
        "if test_value > 1000:\n",
        "  # Expression evaluates to False\n",
        "  print(\"This code is NOT executed!\")\n",
        "##\n",
        "print(\"Program continues at this point.\")"
      ],
      "metadata": {
        "colab": {
          "base_uri": "https://localhost:8080/"
        },
        "id": "RP_4-dswTMhB",
        "outputId": "f065bcab-22b6-454c-e5a1-db94a06c9137"
      },
      "execution_count": 26,
      "outputs": [
        {
          "output_type": "stream",
          "name": "stdout",
          "text": [
            "This code is executed!\n",
            "Program continues at this point.\n"
          ]
        }
      ]
    },
    {
      "cell_type": "markdown",
      "source": [
        "## Else Statement"
      ],
      "metadata": {
        "id": "P89Ox4NylgEl"
      }
    },
    {
      "cell_type": "code",
      "source": [
        "# exemple 1:\n",
        "budget = 200\n",
        "item_price = 1200\n",
        "if item_price <= budget:\n",
        "   print(\"I'll buy it!\")\n",
        "else:\n",
        "   print(\"It's too expensive. I'll pass.\")"
      ],
      "metadata": {
        "colab": {
          "base_uri": "https://localhost:8080/"
        },
        "id": "SWwC7I4flnpK",
        "outputId": "cb2d2f1e-d129-4d40-8511-adee10577b1e"
      },
      "execution_count": 27,
      "outputs": [
        {
          "output_type": "stream",
          "name": "stdout",
          "text": [
            "It's too expensive. I'll pass.\n"
          ]
        }
      ]
    },
    {
      "cell_type": "code",
      "source": [
        "# exemple 2:\n",
        "x=3\n",
        "y=5\n",
        "if x==y:\n",
        "  print(\"x is equal to y\")\n",
        "else:\n",
        "  print(\"x is not equal to y\")"
      ],
      "metadata": {
        "colab": {
          "base_uri": "https://localhost:8080/"
        },
        "id": "Lhl8pjAG4M9Z",
        "outputId": "ebe10bab-10bf-4e56-fc99-c88201b60dbc"
      },
      "execution_count": 28,
      "outputs": [
        {
          "output_type": "stream",
          "name": "stdout",
          "text": [
            "x is not equal to y\n"
          ]
        }
      ]
    },
    {
      "cell_type": "code",
      "source": [
        "# exemple 3:\n",
        "test_string = \"Java\"\n",
        "\n",
        "if test_string == \"Python\":\n",
        "  print(\"String equals Python\")\n",
        "else:\n",
        "  print(\"String equals something else!\")"
      ],
      "metadata": {
        "colab": {
          "base_uri": "https://localhost:8080/"
        },
        "id": "9855lwc_30ii",
        "outputId": "dc17bf5d-521f-4fef-b9b4-f932173ee595"
      },
      "execution_count": 29,
      "outputs": [
        {
          "output_type": "stream",
          "name": "stdout",
          "text": [
            "String equals something else!\n"
          ]
        }
      ]
    },
    {
      "cell_type": "markdown",
      "source": [
        "Elif Statement"
      ],
      "metadata": {
        "id": "S3HpJnTolo9S"
      }
    },
    {
      "cell_type": "code",
      "source": [
        "x=5\n",
        "y=3\n",
        "if x < y:\n",
        "  print(\"x is less than y\")\n",
        "elif x > y:\n",
        "  print(\"x is greater than y\")\n",
        "else:\n",
        "  print(\"x is equal to y\")"
      ],
      "metadata": {
        "colab": {
          "base_uri": "https://localhost:8080/"
        },
        "id": "xEnW8KswzNzX",
        "outputId": "d353f509-5524-4e95-cbe9-32e357fd0481"
      },
      "execution_count": 30,
      "outputs": [
        {
          "output_type": "stream",
          "name": "stdout",
          "text": [
            "x is greater than y\n"
          ]
        }
      ]
    },
    {
      "cell_type": "code",
      "source": [
        "3/0 # ZeroDivisionError"
      ],
      "metadata": {
        "colab": {
          "base_uri": "https://localhost:8080/",
          "height": 179
        },
        "id": "l6PM5phO3jX-",
        "outputId": "4a349aa1-9199-4b19-ac7e-216c30a56362"
      },
      "execution_count": 31,
      "outputs": [
        {
          "output_type": "error",
          "ename": "ZeroDivisionError",
          "evalue": "ignored",
          "traceback": [
            "\u001b[0;31m---------------------------------------------------------------------------\u001b[0m",
            "\u001b[0;31mZeroDivisionError\u001b[0m                         Traceback (most recent call last)",
            "\u001b[0;32m<ipython-input-31-f6cc6d14333b>\u001b[0m in \u001b[0;36m<cell line: 1>\u001b[0;34m()\u001b[0m\n\u001b[0;32m----> 1\u001b[0;31m \u001b[0;36m3\u001b[0m\u001b[0;34m/\u001b[0m\u001b[0;36m0\u001b[0m\u001b[0;34m\u001b[0m\u001b[0;34m\u001b[0m\u001b[0m\n\u001b[0m",
            "\u001b[0;31mZeroDivisionError\u001b[0m: division by zero"
          ]
        }
      ]
    },
    {
      "cell_type": "code",
      "source": [
        "x=int(input(\"Give me the value of x:\"))\n",
        "y=int(input(\"Give me the value of y:\"))\n",
        "#x/y\n",
        "if(y==0):\n",
        "  print(\"Error\")\n",
        "else:\n",
        "  result=x/y\n",
        "  print(\"The Result is\",result)\n",
        "  print(\"The Result is\"+str(result))"
      ],
      "metadata": {
        "colab": {
          "base_uri": "https://localhost:8080/"
        },
        "id": "Q0DvINkV3o0A",
        "outputId": "276125c4-47f1-4840-8054-d8123d56d263"
      },
      "execution_count": 32,
      "outputs": [
        {
          "output_type": "stream",
          "name": "stdout",
          "text": [
            "Give me the value of x:2\n",
            "Give me the value of y:3\n",
            "The Result is 0.6666666666666666\n",
            "The Result is0.6666666666666666\n"
          ]
        }
      ]
    },
    {
      "cell_type": "code",
      "source": [
        "hour=int(input(\"Enter the current hour: \"))\n",
        "\n",
        "if 5<=hour and 11>hour:\n",
        "  print(\"Good Moring!\")\n",
        "elif 12<=hour and 18>hour:\n",
        "  print(\"Good AfterNoon\")\n",
        "elif 18<=hour and 23>hour:\n",
        "  print(\"Good Evening\")\n",
        "else:\n",
        "  print(\"Good Night\")\n"
      ],
      "metadata": {
        "colab": {
          "base_uri": "https://localhost:8080/"
        },
        "id": "KsBr-iFU4gPi",
        "outputId": "41449f83-aec7-48b0-ff9b-caa9284f02a0"
      },
      "execution_count": 33,
      "outputs": [
        {
          "output_type": "stream",
          "name": "stdout",
          "text": [
            "Enter the current hour: 3\n",
            "Good Night\n"
          ]
        }
      ]
    }
  ]
}