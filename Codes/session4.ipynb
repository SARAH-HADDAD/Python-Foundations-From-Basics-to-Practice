{
  "nbformat": 4,
  "nbformat_minor": 0,
  "metadata": {
    "colab": {
      "provenance": []
    },
    "kernelspec": {
      "name": "python3",
      "display_name": "Python 3"
    },
    "language_info": {
      "name": "python"
    }
  },
  "cells": [
    {
      "cell_type": "markdown",
      "source": [
        "# **Session 4: Playing with Data and Functions**"
      ],
      "metadata": {
        "id": "Hw-TEFDzJ1K5"
      }
    },
    {
      "cell_type": "markdown",
      "source": [
        "## Functions"
      ],
      "metadata": {
        "id": "P9MExRB1J9Zl"
      }
    },
    {
      "cell_type": "code",
      "source": [
        "# `range()`, which is a function where you can input a number and it will return a sequence from 0 up to (but not including) that number.\n",
        "range(100) # 0-> 99"
      ],
      "metadata": {
        "id": "EtDYamgyK1b5"
      },
      "execution_count": null,
      "outputs": []
    },
    {
      "cell_type": "markdown",
      "source": [
        "### Define a Function"
      ],
      "metadata": {
        "id": "SRAnSxxyKBOW"
      }
    },
    {
      "cell_type": "code",
      "source": [
        "def my_first_function():\n",
        "  print(\"Hello, how are you\")"
      ],
      "metadata": {
        "id": "_hTwjGLILkMO"
      },
      "execution_count": null,
      "outputs": []
    },
    {
      "cell_type": "markdown",
      "source": [
        "### Use a Function"
      ],
      "metadata": {
        "id": "ZokKS14IKGKV"
      }
    },
    {
      "cell_type": "code",
      "source": [
        "my_first_function()\n",
        "my_first_function()\n",
        "my_first_function()\n",
        "my_first_function()"
      ],
      "metadata": {
        "colab": {
          "base_uri": "https://localhost:8080/"
        },
        "id": "PdpkLmBuLx3E",
        "outputId": "77624c5c-a013-4473-ec41-a4d6228ded1b"
      },
      "execution_count": null,
      "outputs": [
        {
          "output_type": "stream",
          "name": "stdout",
          "text": [
            "Hello, how are you\n",
            "Hello, how are you\n",
            "Hello, how are you\n",
            "Hello, how are you\n"
          ]
        }
      ]
    },
    {
      "cell_type": "markdown",
      "source": [
        "### Functions with Parameters"
      ],
      "metadata": {
        "id": "wlj-wtEPKLGs"
      }
    },
    {
      "cell_type": "code",
      "source": [
        "def greet(name):\n",
        "  print(\"Hello, \"+name)"
      ],
      "metadata": {
        "id": "sHXghwt2MY3o"
      },
      "execution_count": null,
      "outputs": []
    },
    {
      "cell_type": "code",
      "source": [
        "greet(\"Soumia\")\n",
        "greet(\"Amira\")"
      ],
      "metadata": {
        "colab": {
          "base_uri": "https://localhost:8080/"
        },
        "id": "WOgR_R8VMoJl",
        "outputId": "e32478ff-8280-4511-e37a-d4107a1e9f62"
      },
      "execution_count": null,
      "outputs": [
        {
          "output_type": "stream",
          "name": "stdout",
          "text": [
            "Hello, Soumia\n",
            "Hello, Amira\n"
          ]
        }
      ]
    },
    {
      "cell_type": "markdown",
      "source": [
        "### Functions with a Return Value"
      ],
      "metadata": {
        "id": "jwJTh317KNnm"
      }
    },
    {
      "cell_type": "code",
      "source": [
        "def add_numbers(a, b):\n",
        "  result=a+b\n",
        "  return result"
      ],
      "metadata": {
        "id": "G7lOsjGcM7vk"
      },
      "execution_count": null,
      "outputs": []
    },
    {
      "cell_type": "code",
      "source": [
        "print(add_numbers(10,5))"
      ],
      "metadata": {
        "colab": {
          "base_uri": "https://localhost:8080/"
        },
        "id": "dl6uoOuYNTfN",
        "outputId": "aadc4663-c666-4fab-f5a9-4152ade87eca"
      },
      "execution_count": null,
      "outputs": [
        {
          "output_type": "stream",
          "name": "stdout",
          "text": [
            "15\n"
          ]
        }
      ]
    },
    {
      "cell_type": "code",
      "source": [
        "x=3\n",
        "y=5\n",
        "c=add_numbers(x,y)\n",
        "print(c)"
      ],
      "metadata": {
        "colab": {
          "base_uri": "https://localhost:8080/"
        },
        "id": "ptQyDiJaNa8g",
        "outputId": "05937f24-9946-45e9-94a0-bc41ae576b90"
      },
      "execution_count": null,
      "outputs": [
        {
          "output_type": "stream",
          "name": "stdout",
          "text": [
            "8\n"
          ]
        }
      ]
    },
    {
      "cell_type": "markdown",
      "source": [
        "### Multiple Return Values"
      ],
      "metadata": {
        "id": "rkCo4tLxKQc_"
      }
    },
    {
      "cell_type": "code",
      "source": [
        "def calculate_rectangle_proprities(lenght, width):\n",
        "\n",
        "  area=lenght*width\n",
        "  perimeter=2*(lenght+width)\n",
        "\n",
        "  return area, perimeter"
      ],
      "metadata": {
        "id": "1whXO0bCNuMV"
      },
      "execution_count": null,
      "outputs": []
    },
    {
      "cell_type": "code",
      "source": [
        "a, p=calculate_rectangle_proprities(200,10)\n",
        "\n",
        "print(\"Rectangle Area:\",a)\n",
        "print(\"Rectangle perimeter\",p)"
      ],
      "metadata": {
        "colab": {
          "base_uri": "https://localhost:8080/"
        },
        "id": "F0ehITsZOYzH",
        "outputId": "b4e89700-89ca-4ae4-9d59-50e9a11da536"
      },
      "execution_count": null,
      "outputs": [
        {
          "output_type": "stream",
          "name": "stdout",
          "text": [
            "rectangle Area: 2000\n",
            "Rectangle perimeter 420\n"
          ]
        }
      ]
    },
    {
      "cell_type": "markdown",
      "source": [
        "### SCOPE OF VARIABLES"
      ],
      "metadata": {
        "id": "ewPFJ6l86EBM"
      }
    },
    {
      "cell_type": "code",
      "source": [
        "a=5 # global variable\n",
        "\n",
        "def f1():\n",
        "  k=3\n",
        "  a=2 # local variable\n",
        "  print(a)\n",
        "  print(k)\n",
        "\n",
        "f1()   # Prints 2\n",
        "print(a) # Prints 5"
      ],
      "metadata": {
        "colab": {
          "base_uri": "https://localhost:8080/"
        },
        "id": "R_FdYH8KPf_x",
        "outputId": "4934f933-fa95-409b-c685-99447c251d7d"
      },
      "execution_count": null,
      "outputs": [
        {
          "output_type": "stream",
          "name": "stdout",
          "text": [
            "2\n",
            "3\n",
            "5\n"
          ]
        }
      ]
    },
    {
      "cell_type": "markdown",
      "source": [
        "### **Problem**:\n",
        "You want to create a function that checks if a given number is prime or not. A prime number is a positive integer greater than 1 that has no positive integer divisors other than 1 and itself."
      ],
      "metadata": {
        "id": "BYlQKDuSKS0k"
      }
    },
    {
      "cell_type": "code",
      "source": [
        "# Function to check if a number is prime\n",
        "def is_prime(number):#11\n",
        "\n",
        "  # Numbers less than or equal to 1 are not prime\n",
        "  if(number<=1):\n",
        "    return False # We will exit the function\n",
        "\n",
        "  # Check for factors from 2 to number -1\n",
        "  for i in range(2,number):# 2-> 9\n",
        "    #print(str(number)+\"/\"+str(i))\n",
        "    if(number%i==0):#11%10==0\n",
        "      return False # if the number has a divisio it's not a prime we exit the function\n",
        "\n",
        "  return True # If no divisors found, it's prime"
      ],
      "metadata": {
        "id": "RsQc081RQgGM"
      },
      "execution_count": null,
      "outputs": []
    },
    {
      "cell_type": "code",
      "source": [
        "# Test the function with some numbers\n",
        "\n",
        "numbers_to_test=[1, 3, 5, 8, 99, 77, 55, 22]\n",
        "\n",
        "for number in numbers_to_test:\n",
        "  if(is_prime(number)):\n",
        "    print(str(number)+\" is prime\")\n",
        "  else:\n",
        "    print(str(number)+\" is not prime\")\n"
      ],
      "metadata": {
        "colab": {
          "base_uri": "https://localhost:8080/"
        },
        "id": "20n_BKUxSxsU",
        "outputId": "f3cea7af-8d18-4d7a-93e4-b016655bdde0"
      },
      "execution_count": null,
      "outputs": [
        {
          "output_type": "stream",
          "name": "stdout",
          "text": [
            "1 is not prime\n",
            "3 is prime\n",
            "5 is prime\n",
            "8 is not prime\n",
            "99 is not prime\n",
            "77 is not prime\n",
            "55 is not prime\n",
            "22 is not prime\n"
          ]
        }
      ]
    },
    {
      "cell_type": "markdown",
      "source": [
        "## Dictionaries"
      ],
      "metadata": {
        "id": "4AMidtRxKnWM"
      }
    },
    {
      "cell_type": "markdown",
      "source": [
        "### Creating a Dictionary"
      ],
      "metadata": {
        "id": "VcLXe2TbLEO5"
      }
    },
    {
      "cell_type": "code",
      "source": [
        "my_dictionary={\"name\":\"Sarah\", \"age\":21, \"city\":\"Alger\" }\n",
        "print(my_dictionary)"
      ],
      "metadata": {
        "colab": {
          "base_uri": "https://localhost:8080/"
        },
        "id": "U16amaAUVr1D",
        "outputId": "53c6813c-bb2b-4733-a5fe-cd83de1e2ef8"
      },
      "execution_count": null,
      "outputs": [
        {
          "output_type": "stream",
          "name": "stdout",
          "text": [
            "{'name': 'Sarah', 'age': 21, 'city': 'Alger'}\n"
          ]
        }
      ]
    },
    {
      "cell_type": "markdown",
      "source": [
        "### Accessing Values"
      ],
      "metadata": {
        "id": "LqR4Z9keLH1W"
      }
    },
    {
      "cell_type": "code",
      "source": [
        "my_dictionary[\"age\"] # Access the value associated with the key \"age\""
      ],
      "metadata": {
        "colab": {
          "base_uri": "https://localhost:8080/"
        },
        "id": "gMZJKjcOWNPp",
        "outputId": "8edef8af-86ed-4a8e-a7b3-8a46c0cda087"
      },
      "execution_count": null,
      "outputs": [
        {
          "output_type": "execute_result",
          "data": {
            "text/plain": [
              "21"
            ]
          },
          "metadata": {},
          "execution_count": 87
        }
      ]
    },
    {
      "cell_type": "markdown",
      "source": [
        "### Dictionary Keys and Values"
      ],
      "metadata": {
        "id": "vh25LGrhLLdL"
      }
    },
    {
      "cell_type": "code",
      "source": [
        "my_dictionary.values() # Returns a list of all values."
      ],
      "metadata": {
        "colab": {
          "base_uri": "https://localhost:8080/"
        },
        "id": "iYHva4GBXB57",
        "outputId": "bffd9040-5600-48dd-9e87-0afd45ec31d1"
      },
      "execution_count": null,
      "outputs": [
        {
          "output_type": "execute_result",
          "data": {
            "text/plain": [
              "dict_values(['Sarah', 21, 'Alger'])"
            ]
          },
          "metadata": {},
          "execution_count": 92
        }
      ]
    },
    {
      "cell_type": "code",
      "source": [
        "my_dictionary.keys() # Returns a list of all keys."
      ],
      "metadata": {
        "colab": {
          "base_uri": "https://localhost:8080/"
        },
        "id": "ima4d256XLgY",
        "outputId": "22affcba-1c2a-4d6b-ad28-de3146f49b19"
      },
      "execution_count": null,
      "outputs": [
        {
          "output_type": "execute_result",
          "data": {
            "text/plain": [
              "dict_keys(['name', 'age', 'city'])"
            ]
          },
          "metadata": {},
          "execution_count": 93
        }
      ]
    },
    {
      "cell_type": "code",
      "source": [
        "my_dictionary.items() # Returns a list of key-value pairs as tuples."
      ],
      "metadata": {
        "colab": {
          "base_uri": "https://localhost:8080/"
        },
        "id": "BQJP55wGXQTs",
        "outputId": "9619f69a-0d2c-4535-8abd-420f352657f6"
      },
      "execution_count": null,
      "outputs": [
        {
          "output_type": "execute_result",
          "data": {
            "text/plain": [
              "dict_items([('name', 'Sarah'), ('age', 21), ('city', 'Alger')])"
            ]
          },
          "metadata": {},
          "execution_count": 94
        }
      ]
    },
    {
      "cell_type": "markdown",
      "source": [
        "### Modifying and Adding Items"
      ],
      "metadata": {
        "id": "DPJ-ApT3LUrC"
      }
    },
    {
      "cell_type": "code",
      "source": [
        "my_dictionary['age']=22 # Update the age to 22\n",
        "my_dictionary"
      ],
      "metadata": {
        "colab": {
          "base_uri": "https://localhost:8080/"
        },
        "id": "AnZLpNd8X7gb",
        "outputId": "12490f2f-ddc6-4aba-ee8a-674bfec60600"
      },
      "execution_count": null,
      "outputs": [
        {
          "output_type": "execute_result",
          "data": {
            "text/plain": [
              "{'name': 'Sarah', 'age': 22, 'city': 'Alger'}"
            ]
          },
          "metadata": {},
          "execution_count": 95
        }
      ]
    },
    {
      "cell_type": "code",
      "source": [
        "my_dictionary['gender']=\"female\"  # Add a new key-value pair\n",
        "my_dictionary"
      ],
      "metadata": {
        "colab": {
          "base_uri": "https://localhost:8080/"
        },
        "id": "jTF3pkmcYICi",
        "outputId": "f75dde0e-2859-4eb7-c5a7-a51947cdaba9"
      },
      "execution_count": null,
      "outputs": [
        {
          "output_type": "execute_result",
          "data": {
            "text/plain": [
              "{'name': 'Sarah', 'age': 22, 'city': 'Alger', 'gender': 'female'}"
            ]
          },
          "metadata": {},
          "execution_count": 96
        }
      ]
    },
    {
      "cell_type": "markdown",
      "source": [
        "### Removing Items"
      ],
      "metadata": {
        "id": "dGGMdPZALZyy"
      }
    },
    {
      "cell_type": "code",
      "source": [
        "del my_dictionary[\"city\"] # Remove the \"city\" key-value pair\n",
        "\n",
        "my_dictionary"
      ],
      "metadata": {
        "colab": {
          "base_uri": "https://localhost:8080/"
        },
        "id": "uNwxtUtfYktv",
        "outputId": "813bc1aa-d18e-49ec-87b5-acd96914d86b"
      },
      "execution_count": null,
      "outputs": [
        {
          "output_type": "execute_result",
          "data": {
            "text/plain": [
              "{}"
            ]
          },
          "metadata": {},
          "execution_count": 102
        }
      ]
    },
    {
      "cell_type": "markdown",
      "source": [
        "## Buidling a Contact Managment System\n",
        " this program will allow users to add contacts,\n",
        " view contact details,\n",
        " search for contacts by name,\n",
        " quit the program,\n",
        " We will use functions and dictionaries."
      ],
      "metadata": {
        "id": "KM0FFJdHA2d2"
      }
    },
    {
      "cell_type": "code",
      "source": [
        "#  this program will allow users to add contacts,\n",
        "# view contact details,"
      ],
      "metadata": {
        "id": "iIOLhx42Yv9G"
      },
      "execution_count": null,
      "outputs": []
    },
    {
      "cell_type": "code",
      "source": [
        "# Initialize an empty dictionary to store contacts\n",
        "contacts={}# {\"Sarah\":\"000000222\",\"Amira\":\"9999008779\"}"
      ],
      "metadata": {
        "id": "yjZKweCCZOHx"
      },
      "execution_count": null,
      "outputs": []
    },
    {
      "cell_type": "code",
      "source": [
        "# Function to add a new contact\n",
        "def add_contact():\n",
        "  name=input(\"Enter contact name :\")\n",
        "  phone_number=input(\"Enter contact phone number :\")\n",
        "\n",
        "  contacts[name]=phone_number\n",
        "\n",
        "  print(\"Contact \"+name+\" added successfully\")"
      ],
      "metadata": {
        "id": "lLUGZMteZcvw"
      },
      "execution_count": null,
      "outputs": []
    },
    {
      "cell_type": "code",
      "source": [
        "# Function to view contact details\n",
        "def view_contact():\n",
        "  name=input(\"Enter contact name\")\n",
        "  print(\"Contact details for \"+name)\n",
        "  print(\"Phone:\"+contacts[name])"
      ],
      "metadata": {
        "id": "PKq1yiXUaiU8"
      },
      "execution_count": null,
      "outputs": []
    },
    {
      "cell_type": "code",
      "source": [
        "# Main program loop\n",
        "\n",
        "exit=False\n",
        "\n",
        "while(not exit):\n",
        "\n",
        "  print(\"\\n Contact Managment System\")\n",
        "  print(\"1.add contact\")\n",
        "  print(\"2.view contact details\")\n",
        "  print(\"3.Exit\")\n",
        "\n",
        "  choice=int(input(\"Enter your choice:\"))\n",
        "\n",
        "  if(choice==1):\n",
        "    add_contact()\n",
        "  elif(choice==2):\n",
        "    view_contact()\n",
        "  elif(choice==3):\n",
        "    exit=True\n",
        "  else:\n",
        "    print(\"Invalid choice, Try again\")\n",
        "\n",
        "\n",
        "\n"
      ],
      "metadata": {
        "colab": {
          "base_uri": "https://localhost:8080/"
        },
        "id": "VcHpOLW_bHQj",
        "outputId": "35736595-aec0-4308-9695-075e3188608b"
      },
      "execution_count": null,
      "outputs": [
        {
          "name": "stdout",
          "output_type": "stream",
          "text": [
            "\n",
            " Contact Managment System\n",
            "1.add contact\n",
            "2.view contact details\n",
            "3.Exit\n",
            "Enter your choice:1\n",
            "Enter contact nameAmel\n",
            "Enter contact phone number199199191\n",
            "Contact Amel added successfully\n",
            "\n",
            " Contact Managment System\n",
            "1.add contact\n",
            "2.view contact details\n",
            "3.Exit\n",
            "Enter your choice:2\n",
            "Enter contact nameAmel\n",
            "Contact details for Amel\n",
            "Phone:199199191\n",
            "\n",
            " Contact Managment System\n",
            "1.add contact\n",
            "2.view contact details\n",
            "3.Exit\n",
            "Enter your choice:3\n"
          ]
        }
      ]
    }
  ]
}